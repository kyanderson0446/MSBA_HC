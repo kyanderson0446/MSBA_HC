{
 "cells": [
  {
   "cell_type": "code",
   "execution_count": 34,
   "id": "6cc9f72dcd277e3a",
   "metadata": {
    "ExecuteTime": {
     "end_time": "2024-04-01T15:32:21.326017500Z",
     "start_time": "2024-04-01T15:32:21.230810400Z"
    }
   },
   "outputs": [],
   "source": [
    "import pandas as pd\n",
    "import matplotlib.pyplot as plt\n",
    "import seaborn as sns\n",
    "import numpy as np\n"
   ]
  },
  {
   "cell_type": "markdown",
   "id": "52ebcd9eeb6a5ed3",
   "metadata": {},
   "source": [
    "## Read in data by chunks"
   ]
  },
  {
   "cell_type": "code",
   "execution_count": 35,
   "id": "initial_id",
   "metadata": {
    "ExecuteTime": {
     "end_time": "2024-04-01T15:32:23.902212500Z",
     "start_time": "2024-04-01T15:32:21.323012300Z"
    }
   },
   "outputs": [],
   "source": [
    "train_main = f'application_train.csv'\n",
    "test_main = f'application_test.csv'\n",
    "\n",
    "# Chunk size\n",
    "chunk_size = 25000  # You can adjust this value as needed\n",
    "\n",
    "# Initialize empty list to store chunks\n",
    "chunks_t = []\n",
    "chunks_e = []\n",
    "\n",
    "# Read train data in chunks\n",
    "for chunk in pd.read_csv(train_main, index_col=False, chunksize=chunk_size, low_memory=False):\n",
    "    chunks_t.append(chunk)\n",
    "\n",
    "# Read test data in chunks\n",
    "for chunk in pd.read_csv(test_main, index_col=False, chunksize=chunk_size, low_memory=False):\n",
    "    chunks_e.append(chunk)\n",
    "\n",
    "# Concatenate chunks to create final DataFrame\n",
    "df_t = pd.concat(chunks_t, ignore_index=True)\n",
    "df_e = pd.concat(chunks_e, ignore_index=True)"
   ]
  },
  {
   "cell_type": "markdown",
   "id": "e278dada25538de4",
   "metadata": {},
   "source": [
    "## Reference Data Types"
   ]
  },
  {
   "cell_type": "code",
   "execution_count": 36,
   "id": "c8b570b584e1277",
   "metadata": {
    "ExecuteTime": {
     "end_time": "2024-04-01T15:32:23.907872800Z",
     "start_time": "2024-04-01T15:32:23.902212500Z"
    }
   },
   "outputs": [
    {
     "name": "stdout",
     "output_type": "stream",
     "text": [
      "SK_ID_CURR                        int64\n",
      "TARGET                            int64\n",
      "NAME_CONTRACT_TYPE               object\n",
      "CODE_GENDER                      object\n",
      "FLAG_OWN_CAR                     object\n",
      "FLAG_OWN_REALTY                  object\n",
      "CNT_CHILDREN                      int64\n",
      "AMT_INCOME_TOTAL                float64\n",
      "AMT_CREDIT                      float64\n",
      "AMT_ANNUITY                     float64\n",
      "AMT_GOODS_PRICE                 float64\n",
      "NAME_TYPE_SUITE                  object\n",
      "NAME_INCOME_TYPE                 object\n",
      "NAME_EDUCATION_TYPE              object\n",
      "NAME_FAMILY_STATUS               object\n",
      "NAME_HOUSING_TYPE                object\n",
      "REGION_POPULATION_RELATIVE      float64\n",
      "DAYS_BIRTH                        int64\n",
      "DAYS_EMPLOYED                     int64\n",
      "DAYS_REGISTRATION               float64\n",
      "DAYS_ID_PUBLISH                   int64\n",
      "OWN_CAR_AGE                     float64\n",
      "FLAG_MOBIL                        int64\n",
      "FLAG_EMP_PHONE                    int64\n",
      "FLAG_WORK_PHONE                   int64\n",
      "FLAG_CONT_MOBILE                  int64\n",
      "FLAG_PHONE                        int64\n",
      "FLAG_EMAIL                        int64\n",
      "OCCUPATION_TYPE                  object\n",
      "CNT_FAM_MEMBERS                 float64\n",
      "REGION_RATING_CLIENT              int64\n",
      "REGION_RATING_CLIENT_W_CITY       int64\n",
      "WEEKDAY_APPR_PROCESS_START       object\n",
      "HOUR_APPR_PROCESS_START           int64\n",
      "REG_REGION_NOT_LIVE_REGION        int64\n",
      "REG_REGION_NOT_WORK_REGION        int64\n",
      "LIVE_REGION_NOT_WORK_REGION       int64\n",
      "REG_CITY_NOT_LIVE_CITY            int64\n",
      "REG_CITY_NOT_WORK_CITY            int64\n",
      "LIVE_CITY_NOT_WORK_CITY           int64\n",
      "ORGANIZATION_TYPE                object\n",
      "EXT_SOURCE_1                    float64\n",
      "EXT_SOURCE_2                    float64\n",
      "EXT_SOURCE_3                    float64\n",
      "APARTMENTS_AVG                  float64\n",
      "BASEMENTAREA_AVG                float64\n",
      "YEARS_BEGINEXPLUATATION_AVG     float64\n",
      "YEARS_BUILD_AVG                 float64\n",
      "COMMONAREA_AVG                  float64\n",
      "ELEVATORS_AVG                   float64\n",
      "ENTRANCES_AVG                   float64\n",
      "FLOORSMAX_AVG                   float64\n",
      "FLOORSMIN_AVG                   float64\n",
      "LANDAREA_AVG                    float64\n",
      "LIVINGAPARTMENTS_AVG            float64\n",
      "LIVINGAREA_AVG                  float64\n",
      "NONLIVINGAPARTMENTS_AVG         float64\n",
      "NONLIVINGAREA_AVG               float64\n",
      "APARTMENTS_MODE                 float64\n",
      "BASEMENTAREA_MODE               float64\n",
      "YEARS_BEGINEXPLUATATION_MODE    float64\n",
      "YEARS_BUILD_MODE                float64\n",
      "COMMONAREA_MODE                 float64\n",
      "ELEVATORS_MODE                  float64\n",
      "ENTRANCES_MODE                  float64\n",
      "FLOORSMAX_MODE                  float64\n",
      "FLOORSMIN_MODE                  float64\n",
      "LANDAREA_MODE                   float64\n",
      "LIVINGAPARTMENTS_MODE           float64\n",
      "LIVINGAREA_MODE                 float64\n",
      "NONLIVINGAPARTMENTS_MODE        float64\n",
      "NONLIVINGAREA_MODE              float64\n",
      "APARTMENTS_MEDI                 float64\n",
      "BASEMENTAREA_MEDI               float64\n",
      "YEARS_BEGINEXPLUATATION_MEDI    float64\n",
      "YEARS_BUILD_MEDI                float64\n",
      "COMMONAREA_MEDI                 float64\n",
      "ELEVATORS_MEDI                  float64\n",
      "ENTRANCES_MEDI                  float64\n",
      "FLOORSMAX_MEDI                  float64\n",
      "FLOORSMIN_MEDI                  float64\n",
      "LANDAREA_MEDI                   float64\n",
      "LIVINGAPARTMENTS_MEDI           float64\n",
      "LIVINGAREA_MEDI                 float64\n",
      "NONLIVINGAPARTMENTS_MEDI        float64\n",
      "NONLIVINGAREA_MEDI              float64\n",
      "FONDKAPREMONT_MODE               object\n",
      "HOUSETYPE_MODE                   object\n",
      "TOTALAREA_MODE                  float64\n",
      "WALLSMATERIAL_MODE               object\n",
      "EMERGENCYSTATE_MODE              object\n",
      "OBS_30_CNT_SOCIAL_CIRCLE        float64\n",
      "DEF_30_CNT_SOCIAL_CIRCLE        float64\n",
      "OBS_60_CNT_SOCIAL_CIRCLE        float64\n",
      "DEF_60_CNT_SOCIAL_CIRCLE        float64\n",
      "DAYS_LAST_PHONE_CHANGE          float64\n",
      "FLAG_DOCUMENT_2                   int64\n",
      "FLAG_DOCUMENT_3                   int64\n",
      "FLAG_DOCUMENT_4                   int64\n",
      "FLAG_DOCUMENT_5                   int64\n",
      "FLAG_DOCUMENT_6                   int64\n",
      "FLAG_DOCUMENT_7                   int64\n",
      "FLAG_DOCUMENT_8                   int64\n",
      "FLAG_DOCUMENT_9                   int64\n",
      "FLAG_DOCUMENT_10                  int64\n",
      "FLAG_DOCUMENT_11                  int64\n",
      "FLAG_DOCUMENT_12                  int64\n",
      "FLAG_DOCUMENT_13                  int64\n",
      "FLAG_DOCUMENT_14                  int64\n",
      "FLAG_DOCUMENT_15                  int64\n",
      "FLAG_DOCUMENT_16                  int64\n",
      "FLAG_DOCUMENT_17                  int64\n",
      "FLAG_DOCUMENT_18                  int64\n",
      "FLAG_DOCUMENT_19                  int64\n",
      "FLAG_DOCUMENT_20                  int64\n",
      "FLAG_DOCUMENT_21                  int64\n",
      "AMT_REQ_CREDIT_BUREAU_HOUR      float64\n",
      "AMT_REQ_CREDIT_BUREAU_DAY       float64\n",
      "AMT_REQ_CREDIT_BUREAU_WEEK      float64\n",
      "AMT_REQ_CREDIT_BUREAU_MON       float64\n",
      "AMT_REQ_CREDIT_BUREAU_QRT       float64\n",
      "AMT_REQ_CREDIT_BUREAU_YEAR      float64\n",
      "dtype: object\n"
     ]
    }
   ],
   "source": [
    "pd.set_option('display.max_rows', None)\n",
    "data_types = df_t.dtypes\n",
    "print(data_types)"
   ]
  },
  {
   "cell_type": "code",
   "execution_count": 37,
   "id": "e6a8d8cf640f0faa",
   "metadata": {
    "ExecuteTime": {
     "end_time": "2024-04-01T15:32:23.922273400Z",
     "start_time": "2024-04-01T15:32:23.906869900Z"
    }
   },
   "outputs": [
    {
     "name": "stdout",
     "output_type": "stream",
     "text": [
      "<class 'pandas.core.frame.DataFrame'>\n",
      "RangeIndex: 48744 entries, 0 to 48743\n",
      "Columns: 121 entries, SK_ID_CURR to AMT_REQ_CREDIT_BUREAU_YEAR\n",
      "dtypes: float64(65), int64(40), object(16)\n",
      "memory usage: 45.0+ MB\n"
     ]
    }
   ],
   "source": [
    "df_e.info()"
   ]
  },
  {
   "cell_type": "markdown",
   "id": "b5f37d12c4c92660",
   "metadata": {},
   "source": [
    "* Comment out heatmap"
   ]
  },
  {
   "cell_type": "code",
   "execution_count": 38,
   "id": "437ee566bda62a5c",
   "metadata": {
    "ExecuteTime": {
     "end_time": "2024-04-01T15:32:23.923274400Z",
     "start_time": "2024-04-01T15:32:23.918390Z"
    }
   },
   "outputs": [],
   "source": [
    "# numeric_feats = df_t.dtypes[df_t.dtypes != \"object\"].index\n",
    "# plt.figure(figsize=(80,18))\n",
    "# sns.heatmap(df_t[numeric_feats].corr(), annot=False, square=True, cmap='coolwarm')\n",
    "# plt.show()"
   ]
  },
  {
   "cell_type": "markdown",
   "id": "445e1d11fd2c3fd9",
   "metadata": {},
   "source": [
    "## Correlations"
   ]
  },
  {
   "cell_type": "code",
   "execution_count": 39,
   "id": "2b7aa583a1c76908",
   "metadata": {
    "ExecuteTime": {
     "end_time": "2024-04-01T15:32:30.154207400Z",
     "start_time": "2024-04-01T15:32:23.922273400Z"
    }
   },
   "outputs": [
    {
     "name": "stdout",
     "output_type": "stream",
     "text": [
      "Top 30 positive correlations:\n",
      "TARGET                         1.000000\n",
      "DAYS_BIRTH                     0.078239\n",
      "REGION_RATING_CLIENT_W_CITY    0.060893\n",
      "REGION_RATING_CLIENT           0.058899\n",
      "DAYS_LAST_PHONE_CHANGE         0.055218\n",
      "DAYS_ID_PUBLISH                0.051457\n",
      "REG_CITY_NOT_WORK_CITY         0.050994\n",
      "FLAG_EMP_PHONE                 0.045982\n",
      "REG_CITY_NOT_LIVE_CITY         0.044395\n",
      "FLAG_DOCUMENT_3                0.044346\n",
      "DAYS_REGISTRATION              0.041975\n",
      "OWN_CAR_AGE                    0.037612\n",
      "LIVE_CITY_NOT_WORK_CITY        0.032518\n",
      "DEF_30_CNT_SOCIAL_CIRCLE       0.032248\n",
      "DEF_60_CNT_SOCIAL_CIRCLE       0.031276\n",
      "FLAG_WORK_PHONE                0.028524\n",
      "AMT_REQ_CREDIT_BUREAU_YEAR     0.019930\n",
      "CNT_CHILDREN                   0.019187\n",
      "CNT_FAM_MEMBERS                0.009308\n",
      "OBS_30_CNT_SOCIAL_CIRCLE       0.009131\n",
      "OBS_60_CNT_SOCIAL_CIRCLE       0.009022\n",
      "REG_REGION_NOT_WORK_REGION     0.006942\n",
      "REG_REGION_NOT_LIVE_REGION     0.005576\n",
      "FLAG_DOCUMENT_2                0.005417\n",
      "FLAG_DOCUMENT_21               0.003709\n",
      "LIVE_REGION_NOT_WORK_REGION    0.002819\n",
      "AMT_REQ_CREDIT_BUREAU_DAY      0.002704\n",
      "AMT_REQ_CREDIT_BUREAU_HOUR     0.000930\n",
      "AMT_REQ_CREDIT_BUREAU_WEEK     0.000788\n",
      "FLAG_MOBIL                     0.000534\n",
      "Name: TARGET, dtype: float64\n",
      "\n",
      "Top 30 negative correlations:\n",
      "BASEMENTAREA_AVG             -0.022746\n",
      "LIVINGAPARTMENTS_MODE        -0.023393\n",
      "FLAG_PHONE                   -0.023806\n",
      "HOUR_APPR_PROCESS_START      -0.024166\n",
      "LIVINGAPARTMENTS_MEDI        -0.024621\n",
      "LIVINGAPARTMENTS_AVG         -0.025031\n",
      "APARTMENTS_MODE              -0.027284\n",
      "FLAG_DOCUMENT_6              -0.028602\n",
      "APARTMENTS_MEDI              -0.029184\n",
      "APARTMENTS_AVG               -0.029498\n",
      "AMT_CREDIT                   -0.030369\n",
      "LIVINGAREA_MODE              -0.030685\n",
      "ELEVATORS_MODE               -0.032131\n",
      "TOTALAREA_MODE               -0.032596\n",
      "FLOORSMIN_MODE               -0.032698\n",
      "LIVINGAREA_MEDI              -0.032739\n",
      "LIVINGAREA_AVG               -0.032997\n",
      "FLOORSMIN_MEDI               -0.033394\n",
      "FLOORSMIN_AVG                -0.033614\n",
      "ELEVATORS_MEDI               -0.033863\n",
      "ELEVATORS_AVG                -0.034199\n",
      "REGION_POPULATION_RELATIVE   -0.037227\n",
      "AMT_GOODS_PRICE              -0.039645\n",
      "FLOORSMAX_MODE               -0.043226\n",
      "FLOORSMAX_MEDI               -0.043768\n",
      "FLOORSMAX_AVG                -0.044003\n",
      "DAYS_EMPLOYED                -0.044932\n",
      "EXT_SOURCE_1                 -0.155317\n",
      "EXT_SOURCE_2                 -0.160472\n",
      "EXT_SOURCE_3                 -0.178919\n",
      "Name: TARGET, dtype: float64\n"
     ]
    }
   ],
   "source": [
    "# Filter out object type columns from the DataFrame\n",
    "numeric_df = df_t.select_dtypes(include=['int64', 'float64'])\n",
    "\n",
    "# Compute correlations with the TARGET column\n",
    "correlations = numeric_df.corr()['TARGET'].sort_values(ascending=False)\n",
    "\n",
    "# Select the top 30 positive correlations\n",
    "top_positive_correlations = correlations.head(30)\n",
    "\n",
    "# Select the top 30 negative correlations\n",
    "top_negative_correlations = correlations.tail(30)\n",
    "\n",
    "# Display the results\n",
    "print(\"Top 30 positive correlations:\")\n",
    "print(top_positive_correlations)\n",
    "print(\"\\nTop 30 negative correlations:\")\n",
    "print(top_negative_correlations)"
   ]
  },
  {
   "cell_type": "code",
   "execution_count": 40,
   "id": "a2dd53b176d95c9f",
   "metadata": {
    "ExecuteTime": {
     "end_time": "2024-04-01T15:32:30.176212600Z",
     "start_time": "2024-04-01T15:32:30.155206800Z"
    }
   },
   "outputs": [
    {
     "data": {
      "text/plain": "   SK_ID_CURR  TARGET NAME_CONTRACT_TYPE CODE_GENDER FLAG_OWN_CAR  \\\n0      100002       1         Cash loans           M            N   \n1      100003       0         Cash loans           F            N   \n2      100004       0    Revolving loans           M            Y   \n3      100006       0         Cash loans           F            N   \n4      100007       0         Cash loans           M            N   \n\n  FLAG_OWN_REALTY  CNT_CHILDREN  AMT_INCOME_TOTAL  AMT_CREDIT  AMT_ANNUITY  \\\n0               Y             0          202500.0    406597.5      24700.5   \n1               N             0          270000.0   1293502.5      35698.5   \n2               Y             0           67500.0    135000.0       6750.0   \n3               Y             0          135000.0    312682.5      29686.5   \n4               Y             0          121500.0    513000.0      21865.5   \n\n   ...  FLAG_DOCUMENT_18 FLAG_DOCUMENT_19 FLAG_DOCUMENT_20 FLAG_DOCUMENT_21  \\\n0  ...                 0                0                0                0   \n1  ...                 0                0                0                0   \n2  ...                 0                0                0                0   \n3  ...                 0                0                0                0   \n4  ...                 0                0                0                0   \n\n  AMT_REQ_CREDIT_BUREAU_HOUR AMT_REQ_CREDIT_BUREAU_DAY  \\\n0                        0.0                       0.0   \n1                        0.0                       0.0   \n2                        0.0                       0.0   \n3                        NaN                       NaN   \n4                        0.0                       0.0   \n\n   AMT_REQ_CREDIT_BUREAU_WEEK  AMT_REQ_CREDIT_BUREAU_MON  \\\n0                         0.0                        0.0   \n1                         0.0                        0.0   \n2                         0.0                        0.0   \n3                         NaN                        NaN   \n4                         0.0                        0.0   \n\n   AMT_REQ_CREDIT_BUREAU_QRT  AMT_REQ_CREDIT_BUREAU_YEAR  \n0                        0.0                         1.0  \n1                        0.0                         0.0  \n2                        0.0                         0.0  \n3                        NaN                         NaN  \n4                        0.0                         0.0  \n\n[5 rows x 122 columns]",
      "text/html": "<div>\n<style scoped>\n    .dataframe tbody tr th:only-of-type {\n        vertical-align: middle;\n    }\n\n    .dataframe tbody tr th {\n        vertical-align: top;\n    }\n\n    .dataframe thead th {\n        text-align: right;\n    }\n</style>\n<table border=\"1\" class=\"dataframe\">\n  <thead>\n    <tr style=\"text-align: right;\">\n      <th></th>\n      <th>SK_ID_CURR</th>\n      <th>TARGET</th>\n      <th>NAME_CONTRACT_TYPE</th>\n      <th>CODE_GENDER</th>\n      <th>FLAG_OWN_CAR</th>\n      <th>FLAG_OWN_REALTY</th>\n      <th>CNT_CHILDREN</th>\n      <th>AMT_INCOME_TOTAL</th>\n      <th>AMT_CREDIT</th>\n      <th>AMT_ANNUITY</th>\n      <th>...</th>\n      <th>FLAG_DOCUMENT_18</th>\n      <th>FLAG_DOCUMENT_19</th>\n      <th>FLAG_DOCUMENT_20</th>\n      <th>FLAG_DOCUMENT_21</th>\n      <th>AMT_REQ_CREDIT_BUREAU_HOUR</th>\n      <th>AMT_REQ_CREDIT_BUREAU_DAY</th>\n      <th>AMT_REQ_CREDIT_BUREAU_WEEK</th>\n      <th>AMT_REQ_CREDIT_BUREAU_MON</th>\n      <th>AMT_REQ_CREDIT_BUREAU_QRT</th>\n      <th>AMT_REQ_CREDIT_BUREAU_YEAR</th>\n    </tr>\n  </thead>\n  <tbody>\n    <tr>\n      <th>0</th>\n      <td>100002</td>\n      <td>1</td>\n      <td>Cash loans</td>\n      <td>M</td>\n      <td>N</td>\n      <td>Y</td>\n      <td>0</td>\n      <td>202500.0</td>\n      <td>406597.5</td>\n      <td>24700.5</td>\n      <td>...</td>\n      <td>0</td>\n      <td>0</td>\n      <td>0</td>\n      <td>0</td>\n      <td>0.0</td>\n      <td>0.0</td>\n      <td>0.0</td>\n      <td>0.0</td>\n      <td>0.0</td>\n      <td>1.0</td>\n    </tr>\n    <tr>\n      <th>1</th>\n      <td>100003</td>\n      <td>0</td>\n      <td>Cash loans</td>\n      <td>F</td>\n      <td>N</td>\n      <td>N</td>\n      <td>0</td>\n      <td>270000.0</td>\n      <td>1293502.5</td>\n      <td>35698.5</td>\n      <td>...</td>\n      <td>0</td>\n      <td>0</td>\n      <td>0</td>\n      <td>0</td>\n      <td>0.0</td>\n      <td>0.0</td>\n      <td>0.0</td>\n      <td>0.0</td>\n      <td>0.0</td>\n      <td>0.0</td>\n    </tr>\n    <tr>\n      <th>2</th>\n      <td>100004</td>\n      <td>0</td>\n      <td>Revolving loans</td>\n      <td>M</td>\n      <td>Y</td>\n      <td>Y</td>\n      <td>0</td>\n      <td>67500.0</td>\n      <td>135000.0</td>\n      <td>6750.0</td>\n      <td>...</td>\n      <td>0</td>\n      <td>0</td>\n      <td>0</td>\n      <td>0</td>\n      <td>0.0</td>\n      <td>0.0</td>\n      <td>0.0</td>\n      <td>0.0</td>\n      <td>0.0</td>\n      <td>0.0</td>\n    </tr>\n    <tr>\n      <th>3</th>\n      <td>100006</td>\n      <td>0</td>\n      <td>Cash loans</td>\n      <td>F</td>\n      <td>N</td>\n      <td>Y</td>\n      <td>0</td>\n      <td>135000.0</td>\n      <td>312682.5</td>\n      <td>29686.5</td>\n      <td>...</td>\n      <td>0</td>\n      <td>0</td>\n      <td>0</td>\n      <td>0</td>\n      <td>NaN</td>\n      <td>NaN</td>\n      <td>NaN</td>\n      <td>NaN</td>\n      <td>NaN</td>\n      <td>NaN</td>\n    </tr>\n    <tr>\n      <th>4</th>\n      <td>100007</td>\n      <td>0</td>\n      <td>Cash loans</td>\n      <td>M</td>\n      <td>N</td>\n      <td>Y</td>\n      <td>0</td>\n      <td>121500.0</td>\n      <td>513000.0</td>\n      <td>21865.5</td>\n      <td>...</td>\n      <td>0</td>\n      <td>0</td>\n      <td>0</td>\n      <td>0</td>\n      <td>0.0</td>\n      <td>0.0</td>\n      <td>0.0</td>\n      <td>0.0</td>\n      <td>0.0</td>\n      <td>0.0</td>\n    </tr>\n  </tbody>\n</table>\n<p>5 rows × 122 columns</p>\n</div>"
     },
     "execution_count": 40,
     "metadata": {},
     "output_type": "execute_result"
    }
   ],
   "source": [
    "df_t.head()"
   ]
  },
  {
   "cell_type": "markdown",
   "id": "f8a715cff37c5fd2",
   "metadata": {},
   "source": [
    "## Combine Train and Test"
   ]
  },
  {
   "cell_type": "code",
   "execution_count": 41,
   "id": "add0d8c6d9940fb1",
   "metadata": {
    "ExecuteTime": {
     "end_time": "2024-04-01T15:32:30.261781800Z",
     "start_time": "2024-04-01T15:32:30.172213100Z"
    }
   },
   "outputs": [],
   "source": [
    "# Add a new column to indicate the source dataset\n",
    "df_t['is_test'] = 0  # For train data, set to 0\n",
    "df_e['is_test'] = 1   # For test data, set to 1\n",
    "\n",
    "# Concatenate the train and test datasets\n",
    "df_combined = pd.concat([df_t, df_e], ignore_index=True)"
   ]
  },
  {
   "cell_type": "code",
   "execution_count": 42,
   "id": "b68c208db8cf8b97",
   "metadata": {
    "ExecuteTime": {
     "end_time": "2024-04-01T15:32:30.262757300Z",
     "start_time": "2024-04-01T15:32:30.237700Z"
    }
   },
   "outputs": [],
   "source": [
    "# # Read the data into a DataFrame\n",
    "# # Categorize variables with fewer than 10 unique values and not already integers\n",
    "# for col in df_combined.columns:\n",
    "#     if df_combined[col].dtype != 'float64' and df_combined[col].nunique() < 10:\n",
    "#         df_combined[col] = df_combined[col].astype('category')"
   ]
  },
  {
   "cell_type": "code",
   "execution_count": 43,
   "id": "ae5d9f1e",
   "metadata": {
    "ExecuteTime": {
     "end_time": "2024-04-01T15:32:30.696747300Z",
     "start_time": "2024-04-01T15:32:30.240210600Z"
    }
   },
   "outputs": [],
   "source": [
    "# KYLES CODE FOR CATEGORIZING\n",
    "for col in df_combined.columns:\n",
    "    if df_combined[col].dtype == 'object' and df_combined[col].nunique() < 25:\n",
    "        df_combined[col] = df_combined[col].astype('category')"
   ]
  },
  {
   "cell_type": "code",
   "execution_count": 44,
   "id": "ed5e94c6",
   "metadata": {
    "ExecuteTime": {
     "end_time": "2024-04-01T15:32:30.697746800Z",
     "start_time": "2024-04-01T15:32:30.677721500Z"
    }
   },
   "outputs": [],
   "source": [
    "#for col in df_combined.columns:\n",
    "   # print(df_combined[col].dtype)"
   ]
  },
  {
   "cell_type": "markdown",
   "id": "8be55aac432f19c5",
   "metadata": {},
   "source": [
    "## Display numeric NA's"
   ]
  },
  {
   "cell_type": "code",
   "execution_count": 45,
   "id": "882e9c41d5f9c270",
   "metadata": {
    "ExecuteTime": {
     "end_time": "2024-04-01T15:32:30.731158600Z",
     "start_time": "2024-04-01T15:32:30.679721500Z"
    }
   },
   "outputs": [],
   "source": [
    "all_Xdata_na = (df_combined.isnull().sum() / len(df_combined)) * 100\n",
    "all_Xdata_na = all_Xdata_na.drop(all_Xdata_na[all_Xdata_na == 0].index).sort_values(ascending=False)[:300]\n",
    "missing_data = pd.DataFrame({'Missing Data Percent' :all_Xdata_na})"
   ]
  },
  {
   "cell_type": "code",
   "execution_count": 46,
   "id": "ebc6593becffb34e",
   "metadata": {
    "ExecuteTime": {
     "end_time": "2024-04-01T15:32:30.738988200Z",
     "start_time": "2024-04-01T15:32:30.730160800Z"
    }
   },
   "outputs": [
    {
     "data": {
      "text/plain": "                              Missing Data Percent\nCOMMONAREA_AVG                           69.714109\nCOMMONAREA_MEDI                          69.714109\nCOMMONAREA_MODE                          69.714109\nNONLIVINGAPARTMENTS_MEDI                 69.293343\nNONLIVINGAPARTMENTS_MODE                 69.293343\nNONLIVINGAPARTMENTS_AVG                  69.293343\nFONDKAPREMONT_MODE                       68.235393\nLIVINGAPARTMENTS_MEDI                    68.203674\nLIVINGAPARTMENTS_AVG                     68.203674\nLIVINGAPARTMENTS_MODE                    68.203674\nFLOORSMIN_MODE                           67.678489\nFLOORSMIN_MEDI                           67.678489\nFLOORSMIN_AVG                            67.678489\nYEARS_BUILD_AVG                          66.330578\nYEARS_BUILD_MODE                         66.330578\nYEARS_BUILD_MEDI                         66.330578\nOWN_CAR_AGE                              66.031635\nLANDAREA_MODE                            59.183450\nLANDAREA_MEDI                            59.183450\nLANDAREA_AVG                             59.183450\nBASEMENTAREA_AVG                         58.268375\nBASEMENTAREA_MODE                        58.268375\nBASEMENTAREA_MEDI                        58.268375\nNONLIVINGAREA_AVG                        54.951088\nNONLIVINGAREA_MEDI                       54.951088\nNONLIVINGAREA_MODE                       54.951088\nEXT_SOURCE_1                             54.430113\nELEVATORS_MEDI                           53.074343\nELEVATORS_MODE                           53.074343\nELEVATORS_AVG                            53.074343\nWALLSMATERIAL_MODE                       50.591290\nAPARTMENTS_MEDI                          50.511010\nAPARTMENTS_AVG                           50.511010\nAPARTMENTS_MODE                          50.511010\nENTRANCES_MODE                           50.078455\nENTRANCES_AVG                            50.078455\nENTRANCES_MEDI                           50.078455\nHOUSETYPE_MODE                           49.940632\nLIVINGAREA_MODE                          49.936703\nLIVINGAREA_MEDI                          49.936703\nLIVINGAREA_AVG                           49.936703\nFLOORSMAX_MEDI                           49.498533\nFLOORSMAX_MODE                           49.498533\nFLOORSMAX_AVG                            49.498533\nYEARS_BEGINEXPLUATATION_MEDI             48.522266\nYEARS_BEGINEXPLUATATION_MODE             48.522266\nYEARS_BEGINEXPLUATATION_AVG              48.522266\nTOTALAREA_MODE                           48.014765\nEMERGENCYSTATE_MODE                      47.147128\nOCCUPATION_TYPE                          31.437032\nEXT_SOURCE_3                             19.545831\nTARGET                                   13.682334\nAMT_REQ_CREDIT_BUREAU_HOUR               13.352234\nAMT_REQ_CREDIT_BUREAU_DAY                13.352234\nAMT_REQ_CREDIT_BUREAU_WEEK               13.352234\nAMT_REQ_CREDIT_BUREAU_MON                13.352234\nAMT_REQ_CREDIT_BUREAU_QRT                13.352234\nAMT_REQ_CREDIT_BUREAU_YEAR               13.352234\nNAME_TYPE_SUITE                           0.618377\nOBS_30_CNT_SOCIAL_CIRCLE                  0.294733\nDEF_30_CNT_SOCIAL_CIRCLE                  0.294733\nOBS_60_CNT_SOCIAL_CIRCLE                  0.294733\nDEF_60_CNT_SOCIAL_CIRCLE                  0.294733\nEXT_SOURCE_2                              0.187506\nAMT_GOODS_PRICE                           0.078034\nAMT_ANNUITY                               0.010105\nCNT_FAM_MEMBERS                           0.000561\nDAYS_LAST_PHONE_CHANGE                    0.000281",
      "text/html": "<div>\n<style scoped>\n    .dataframe tbody tr th:only-of-type {\n        vertical-align: middle;\n    }\n\n    .dataframe tbody tr th {\n        vertical-align: top;\n    }\n\n    .dataframe thead th {\n        text-align: right;\n    }\n</style>\n<table border=\"1\" class=\"dataframe\">\n  <thead>\n    <tr style=\"text-align: right;\">\n      <th></th>\n      <th>Missing Data Percent</th>\n    </tr>\n  </thead>\n  <tbody>\n    <tr>\n      <th>COMMONAREA_AVG</th>\n      <td>69.714109</td>\n    </tr>\n    <tr>\n      <th>COMMONAREA_MEDI</th>\n      <td>69.714109</td>\n    </tr>\n    <tr>\n      <th>COMMONAREA_MODE</th>\n      <td>69.714109</td>\n    </tr>\n    <tr>\n      <th>NONLIVINGAPARTMENTS_MEDI</th>\n      <td>69.293343</td>\n    </tr>\n    <tr>\n      <th>NONLIVINGAPARTMENTS_MODE</th>\n      <td>69.293343</td>\n    </tr>\n    <tr>\n      <th>NONLIVINGAPARTMENTS_AVG</th>\n      <td>69.293343</td>\n    </tr>\n    <tr>\n      <th>FONDKAPREMONT_MODE</th>\n      <td>68.235393</td>\n    </tr>\n    <tr>\n      <th>LIVINGAPARTMENTS_MEDI</th>\n      <td>68.203674</td>\n    </tr>\n    <tr>\n      <th>LIVINGAPARTMENTS_AVG</th>\n      <td>68.203674</td>\n    </tr>\n    <tr>\n      <th>LIVINGAPARTMENTS_MODE</th>\n      <td>68.203674</td>\n    </tr>\n    <tr>\n      <th>FLOORSMIN_MODE</th>\n      <td>67.678489</td>\n    </tr>\n    <tr>\n      <th>FLOORSMIN_MEDI</th>\n      <td>67.678489</td>\n    </tr>\n    <tr>\n      <th>FLOORSMIN_AVG</th>\n      <td>67.678489</td>\n    </tr>\n    <tr>\n      <th>YEARS_BUILD_AVG</th>\n      <td>66.330578</td>\n    </tr>\n    <tr>\n      <th>YEARS_BUILD_MODE</th>\n      <td>66.330578</td>\n    </tr>\n    <tr>\n      <th>YEARS_BUILD_MEDI</th>\n      <td>66.330578</td>\n    </tr>\n    <tr>\n      <th>OWN_CAR_AGE</th>\n      <td>66.031635</td>\n    </tr>\n    <tr>\n      <th>LANDAREA_MODE</th>\n      <td>59.183450</td>\n    </tr>\n    <tr>\n      <th>LANDAREA_MEDI</th>\n      <td>59.183450</td>\n    </tr>\n    <tr>\n      <th>LANDAREA_AVG</th>\n      <td>59.183450</td>\n    </tr>\n    <tr>\n      <th>BASEMENTAREA_AVG</th>\n      <td>58.268375</td>\n    </tr>\n    <tr>\n      <th>BASEMENTAREA_MODE</th>\n      <td>58.268375</td>\n    </tr>\n    <tr>\n      <th>BASEMENTAREA_MEDI</th>\n      <td>58.268375</td>\n    </tr>\n    <tr>\n      <th>NONLIVINGAREA_AVG</th>\n      <td>54.951088</td>\n    </tr>\n    <tr>\n      <th>NONLIVINGAREA_MEDI</th>\n      <td>54.951088</td>\n    </tr>\n    <tr>\n      <th>NONLIVINGAREA_MODE</th>\n      <td>54.951088</td>\n    </tr>\n    <tr>\n      <th>EXT_SOURCE_1</th>\n      <td>54.430113</td>\n    </tr>\n    <tr>\n      <th>ELEVATORS_MEDI</th>\n      <td>53.074343</td>\n    </tr>\n    <tr>\n      <th>ELEVATORS_MODE</th>\n      <td>53.074343</td>\n    </tr>\n    <tr>\n      <th>ELEVATORS_AVG</th>\n      <td>53.074343</td>\n    </tr>\n    <tr>\n      <th>WALLSMATERIAL_MODE</th>\n      <td>50.591290</td>\n    </tr>\n    <tr>\n      <th>APARTMENTS_MEDI</th>\n      <td>50.511010</td>\n    </tr>\n    <tr>\n      <th>APARTMENTS_AVG</th>\n      <td>50.511010</td>\n    </tr>\n    <tr>\n      <th>APARTMENTS_MODE</th>\n      <td>50.511010</td>\n    </tr>\n    <tr>\n      <th>ENTRANCES_MODE</th>\n      <td>50.078455</td>\n    </tr>\n    <tr>\n      <th>ENTRANCES_AVG</th>\n      <td>50.078455</td>\n    </tr>\n    <tr>\n      <th>ENTRANCES_MEDI</th>\n      <td>50.078455</td>\n    </tr>\n    <tr>\n      <th>HOUSETYPE_MODE</th>\n      <td>49.940632</td>\n    </tr>\n    <tr>\n      <th>LIVINGAREA_MODE</th>\n      <td>49.936703</td>\n    </tr>\n    <tr>\n      <th>LIVINGAREA_MEDI</th>\n      <td>49.936703</td>\n    </tr>\n    <tr>\n      <th>LIVINGAREA_AVG</th>\n      <td>49.936703</td>\n    </tr>\n    <tr>\n      <th>FLOORSMAX_MEDI</th>\n      <td>49.498533</td>\n    </tr>\n    <tr>\n      <th>FLOORSMAX_MODE</th>\n      <td>49.498533</td>\n    </tr>\n    <tr>\n      <th>FLOORSMAX_AVG</th>\n      <td>49.498533</td>\n    </tr>\n    <tr>\n      <th>YEARS_BEGINEXPLUATATION_MEDI</th>\n      <td>48.522266</td>\n    </tr>\n    <tr>\n      <th>YEARS_BEGINEXPLUATATION_MODE</th>\n      <td>48.522266</td>\n    </tr>\n    <tr>\n      <th>YEARS_BEGINEXPLUATATION_AVG</th>\n      <td>48.522266</td>\n    </tr>\n    <tr>\n      <th>TOTALAREA_MODE</th>\n      <td>48.014765</td>\n    </tr>\n    <tr>\n      <th>EMERGENCYSTATE_MODE</th>\n      <td>47.147128</td>\n    </tr>\n    <tr>\n      <th>OCCUPATION_TYPE</th>\n      <td>31.437032</td>\n    </tr>\n    <tr>\n      <th>EXT_SOURCE_3</th>\n      <td>19.545831</td>\n    </tr>\n    <tr>\n      <th>TARGET</th>\n      <td>13.682334</td>\n    </tr>\n    <tr>\n      <th>AMT_REQ_CREDIT_BUREAU_HOUR</th>\n      <td>13.352234</td>\n    </tr>\n    <tr>\n      <th>AMT_REQ_CREDIT_BUREAU_DAY</th>\n      <td>13.352234</td>\n    </tr>\n    <tr>\n      <th>AMT_REQ_CREDIT_BUREAU_WEEK</th>\n      <td>13.352234</td>\n    </tr>\n    <tr>\n      <th>AMT_REQ_CREDIT_BUREAU_MON</th>\n      <td>13.352234</td>\n    </tr>\n    <tr>\n      <th>AMT_REQ_CREDIT_BUREAU_QRT</th>\n      <td>13.352234</td>\n    </tr>\n    <tr>\n      <th>AMT_REQ_CREDIT_BUREAU_YEAR</th>\n      <td>13.352234</td>\n    </tr>\n    <tr>\n      <th>NAME_TYPE_SUITE</th>\n      <td>0.618377</td>\n    </tr>\n    <tr>\n      <th>OBS_30_CNT_SOCIAL_CIRCLE</th>\n      <td>0.294733</td>\n    </tr>\n    <tr>\n      <th>DEF_30_CNT_SOCIAL_CIRCLE</th>\n      <td>0.294733</td>\n    </tr>\n    <tr>\n      <th>OBS_60_CNT_SOCIAL_CIRCLE</th>\n      <td>0.294733</td>\n    </tr>\n    <tr>\n      <th>DEF_60_CNT_SOCIAL_CIRCLE</th>\n      <td>0.294733</td>\n    </tr>\n    <tr>\n      <th>EXT_SOURCE_2</th>\n      <td>0.187506</td>\n    </tr>\n    <tr>\n      <th>AMT_GOODS_PRICE</th>\n      <td>0.078034</td>\n    </tr>\n    <tr>\n      <th>AMT_ANNUITY</th>\n      <td>0.010105</td>\n    </tr>\n    <tr>\n      <th>CNT_FAM_MEMBERS</th>\n      <td>0.000561</td>\n    </tr>\n    <tr>\n      <th>DAYS_LAST_PHONE_CHANGE</th>\n      <td>0.000281</td>\n    </tr>\n  </tbody>\n</table>\n</div>"
     },
     "execution_count": 46,
     "metadata": {},
     "output_type": "execute_result"
    }
   ],
   "source": [
    "pd.set_option('display.max_rows', None)\n",
    "missing_data"
   ]
  },
  {
   "cell_type": "markdown",
   "id": "6f296495429d7c9d",
   "metadata": {},
   "source": [
    "## Missing Numeric data to convert to median"
   ]
  },
  {
   "cell_type": "code",
   "execution_count": 47,
   "id": "96180c3a7016afb4",
   "metadata": {
    "ExecuteTime": {
     "end_time": "2024-04-01T15:32:31.311718200Z",
     "start_time": "2024-04-01T15:32:30.738988200Z"
    }
   },
   "outputs": [],
   "source": [
    "for col in df_combined.columns:\n",
    "    # Check if the column is of float64 data type and has missing or NA values\n",
    "    if df_combined[col].dtype == 'float64' and df_combined[col].isnull().any():\n",
    "        # Calculate the median of the column\n",
    "        median_value = df_combined[col].median()\n",
    "        # Fill missing values with the median\n",
    "        df_combined[col].fillna(median_value, inplace=True)"
   ]
  },
  {
   "cell_type": "markdown",
   "id": "8f1c02a79e5b3625",
   "metadata": {},
   "source": [
    "## What missing data remains?"
   ]
  },
  {
   "cell_type": "code",
   "execution_count": 48,
   "id": "eb7b7c25bfacaf3e",
   "metadata": {
    "ExecuteTime": {
     "end_time": "2024-04-01T15:32:31.346862Z",
     "start_time": "2024-04-01T15:32:31.310719300Z"
    }
   },
   "outputs": [
    {
     "name": "stdout",
     "output_type": "stream",
     "text": [
      "['NAME_TYPE_SUITE', 'OCCUPATION_TYPE', 'FONDKAPREMONT_MODE', 'HOUSETYPE_MODE', 'WALLSMATERIAL_MODE', 'EMERGENCYSTATE_MODE']\n"
     ]
    }
   ],
   "source": [
    "columns_with_missing_data = df_combined.columns[df_combined.isnull().any()].tolist()\n",
    "\n",
    "# Display the columns with missing data\n",
    "print(columns_with_missing_data)"
   ]
  },
  {
   "cell_type": "markdown",
   "id": "8d240572be3ec556",
   "metadata": {},
   "source": [
    "## Object missing data"
   ]
  },
  {
   "cell_type": "code",
   "execution_count": 49,
   "id": "33fc95741973b09d",
   "metadata": {
    "ExecuteTime": {
     "end_time": "2024-04-01T15:32:31.357657900Z",
     "start_time": "2024-04-01T15:32:31.346862Z"
    }
   },
   "outputs": [
    {
     "data": {
      "text/plain": "  NAME_TYPE_SUITE OCCUPATION_TYPE FONDKAPREMONT_MODE  HOUSETYPE_MODE  \\\n0   Unaccompanied        Laborers   reg oper account  block of flats   \n1          Family      Core staff   reg oper account  block of flats   \n2   Unaccompanied        Laborers                NaN             NaN   \n3   Unaccompanied        Laborers                NaN             NaN   \n4   Unaccompanied      Core staff                NaN             NaN   \n\n  WALLSMATERIAL_MODE EMERGENCYSTATE_MODE  \n0       Stone, brick                  No  \n1              Block                  No  \n2                NaN                 NaN  \n3                NaN                 NaN  \n4                NaN                 NaN  ",
      "text/html": "<div>\n<style scoped>\n    .dataframe tbody tr th:only-of-type {\n        vertical-align: middle;\n    }\n\n    .dataframe tbody tr th {\n        vertical-align: top;\n    }\n\n    .dataframe thead th {\n        text-align: right;\n    }\n</style>\n<table border=\"1\" class=\"dataframe\">\n  <thead>\n    <tr style=\"text-align: right;\">\n      <th></th>\n      <th>NAME_TYPE_SUITE</th>\n      <th>OCCUPATION_TYPE</th>\n      <th>FONDKAPREMONT_MODE</th>\n      <th>HOUSETYPE_MODE</th>\n      <th>WALLSMATERIAL_MODE</th>\n      <th>EMERGENCYSTATE_MODE</th>\n    </tr>\n  </thead>\n  <tbody>\n    <tr>\n      <th>0</th>\n      <td>Unaccompanied</td>\n      <td>Laborers</td>\n      <td>reg oper account</td>\n      <td>block of flats</td>\n      <td>Stone, brick</td>\n      <td>No</td>\n    </tr>\n    <tr>\n      <th>1</th>\n      <td>Family</td>\n      <td>Core staff</td>\n      <td>reg oper account</td>\n      <td>block of flats</td>\n      <td>Block</td>\n      <td>No</td>\n    </tr>\n    <tr>\n      <th>2</th>\n      <td>Unaccompanied</td>\n      <td>Laborers</td>\n      <td>NaN</td>\n      <td>NaN</td>\n      <td>NaN</td>\n      <td>NaN</td>\n    </tr>\n    <tr>\n      <th>3</th>\n      <td>Unaccompanied</td>\n      <td>Laborers</td>\n      <td>NaN</td>\n      <td>NaN</td>\n      <td>NaN</td>\n      <td>NaN</td>\n    </tr>\n    <tr>\n      <th>4</th>\n      <td>Unaccompanied</td>\n      <td>Core staff</td>\n      <td>NaN</td>\n      <td>NaN</td>\n      <td>NaN</td>\n      <td>NaN</td>\n    </tr>\n  </tbody>\n</table>\n</div>"
     },
     "execution_count": 49,
     "metadata": {},
     "output_type": "execute_result"
    }
   ],
   "source": [
    "df_na_columns = df_combined[columns_with_missing_data]\n",
    "\n",
    "# Show the head of the DataFrame\n",
    "df_na_columns.head()"
   ]
  },
  {
   "cell_type": "code",
   "execution_count": 50,
   "id": "5ffc7ce3e03c36a8",
   "metadata": {
    "ExecuteTime": {
     "end_time": "2024-04-01T15:32:31.369034300Z",
     "start_time": "2024-04-01T15:32:31.354662900Z"
    }
   },
   "outputs": [
    {
     "name": "stdout",
     "output_type": "stream",
     "text": [
      "NAME_TYPE_SUITE         0.618377\n",
      "OCCUPATION_TYPE        31.437032\n",
      "FONDKAPREMONT_MODE     68.235393\n",
      "HOUSETYPE_MODE         49.940632\n",
      "WALLSMATERIAL_MODE     50.591290\n",
      "EMERGENCYSTATE_MODE    47.147128\n",
      "dtype: float64\n"
     ]
    }
   ],
   "source": [
    "pd.set_option('display.max_rows', None)\n",
    "missing_percentages = (df_na_columns.isna().sum() / len(df_na_columns)) * 100\n",
    "print(missing_percentages)"
   ]
  },
  {
   "cell_type": "code",
   "execution_count": 51,
   "id": "39790dfb27e370be",
   "metadata": {
    "ExecuteTime": {
     "end_time": "2024-04-01T15:32:31.371044Z",
     "start_time": "2024-04-01T15:32:31.361337100Z"
    }
   },
   "outputs": [],
   "source": [
    "for col in df_combined.columns:\n",
    "    # Check if the column is of object data type and has missing or NA values\n",
    "    if df_combined[col].dtype == 'object' and df_combined[col].isnull().any():\n",
    "        # Calculate the mode of the column\n",
    "        mode_values = df_combined[col].mode().iloc[0]\n",
    "        # Fill missing values with the mode\n",
    "        df_combined[col].fillna(mode_values, inplace=True)"
   ]
  },
  {
   "cell_type": "markdown",
   "id": "75fbbf9617180341",
   "metadata": {},
   "source": [
    "## Categorical Data to be converted next. Take a look at any float or object data with less than 10 unique values and convert to category\n",
    "* Except target\n",
    "* Gender -> Category\n",
    "* Name Contract type -> Category"
   ]
  },
  {
   "cell_type": "markdown",
   "id": "e4b1432a4a7b1034",
   "metadata": {},
   "source": [
    "### Convert Test back to it's own dataframe"
   ]
  },
  {
   "cell_type": "code",
   "execution_count": 52,
   "id": "5476d6edb0da9502",
   "metadata": {
    "ExecuteTime": {
     "end_time": "2024-04-01T15:32:31.472088500Z",
     "start_time": "2024-04-01T15:32:31.371044Z"
    }
   },
   "outputs": [],
   "source": [
    "df_e = df_combined[df_combined['is_test'] == 1]\n",
    "\n",
    "# Remove the 'is_test' column from the combined DataFrame\n",
    "df_combined.drop(columns=['is_test'], inplace=True)"
   ]
  },
  {
   "cell_type": "code",
   "execution_count": 53,
   "id": "f8027382d69ab3a5",
   "metadata": {
    "ExecuteTime": {
     "end_time": "2024-04-01T15:32:31.623287200Z",
     "start_time": "2024-04-01T15:32:31.458557200Z"
    }
   },
   "outputs": [],
   "source": [
    "df_t = df_combined.copy()"
   ]
  },
  {
   "cell_type": "markdown",
   "id": "90b6af55f10d536a",
   "metadata": {},
   "source": [
    "## Merged is Train and Application"
   ]
  },
  {
   "cell_type": "code",
   "execution_count": 54,
   "id": "ac3ec315e980b15a",
   "metadata": {
    "ExecuteTime": {
     "end_time": "2024-04-01T15:32:38.098305300Z",
     "start_time": "2024-04-01T15:32:31.621292600Z"
    }
   },
   "outputs": [],
   "source": [
    "previous_app_df = pd.read_csv(f'previous_application.csv', index_col=False, low_memory=False)\n",
    "\n",
    "df_merged = pd.merge(df_t, previous_app_df, on=\"SK_ID_CURR\", how=\"left\")\n"
   ]
  },
  {
   "cell_type": "markdown",
   "source": [
    "## Clean previous application\n",
    "* Kyles Merge"
   ],
   "metadata": {
    "collapsed": false
   },
   "id": "55115f146c3dceb5"
  },
  {
   "cell_type": "code",
   "outputs": [
    {
     "name": "stdout",
     "output_type": "stream",
     "text": [
      "['NAME_TYPE_SUITE_x', 'OCCUPATION_TYPE', 'FONDKAPREMONT_MODE', 'HOUSETYPE_MODE', 'WALLSMATERIAL_MODE', 'EMERGENCYSTATE_MODE', 'NAME_CONTRACT_TYPE_y', 'WEEKDAY_APPR_PROCESS_START_y', 'FLAG_LAST_APPL_PER_CONTRACT', 'NAME_CASH_LOAN_PURPOSE', 'NAME_CONTRACT_STATUS', 'NAME_PAYMENT_TYPE', 'CODE_REJECT_REASON', 'NAME_TYPE_SUITE_y', 'NAME_CLIENT_TYPE', 'NAME_GOODS_CATEGORY', 'NAME_PORTFOLIO', 'NAME_PRODUCT_TYPE', 'CHANNEL_TYPE', 'NAME_SELLER_INDUSTRY', 'NAME_YIELD_GROUP', 'PRODUCT_COMBINATION']\n"
     ]
    }
   ],
   "source": [
    "for col in df_merged.columns:\n",
    "    # Check if the column is of float64 data type and has missing or NA values\n",
    "    if df_merged[col].dtype == 'float64' and df_merged[col].isnull().any():\n",
    "        # Calculate the median of the column\n",
    "        median_value = df_merged[col].median()\n",
    "        # Fill missing values with the median\n",
    "        df_merged[col].fillna(median_value, inplace=True)\n",
    "        \n",
    "        \n",
    "columns_with_missing_data = df_merged.columns[df_merged.isnull().any()].tolist()\n",
    "\n",
    "\n",
    "\n",
    "\n",
    "for col in df_merged.columns:\n",
    "    # Check if the column is of object data type and has missing or NA values\n",
    "    if df_merged[col].dtype == 'object' and df_merged[col].isnull().any():\n",
    "        # Calculate the mode of the column\n",
    "        mode_values = df_merged[col].mode().iloc[0]\n",
    "        # Fill missing values with the mode\n",
    "        df_merged[col].fillna(mode_values, inplace=True)\n",
    "\n",
    "columns_with_missing_data = df_merged.columns[df_merged.isnull().any()].tolist()\n",
    "\n",
    "# Display the columns with missing data\n",
    "print(columns_with_missing_data)"
   ],
   "metadata": {
    "collapsed": false,
    "ExecuteTime": {
     "end_time": "2024-04-01T15:32:41.297973Z",
     "start_time": "2024-04-01T15:32:38.098811100Z"
    }
   },
   "id": "1d0d604f808696e6",
   "execution_count": 55
  },
  {
   "cell_type": "markdown",
   "source": [
    "* Kyles Edits above to merged data"
   ],
   "metadata": {
    "collapsed": false
   },
   "id": "6a355eba3b2fb36c"
  },
  {
   "cell_type": "code",
   "execution_count": 56,
   "id": "6b31f281",
   "metadata": {
    "ExecuteTime": {
     "end_time": "2024-04-01T15:32:41.304243700Z",
     "start_time": "2024-04-01T15:32:41.297973Z"
    }
   },
   "outputs": [],
   "source": [
    "#for col in df_merged.columns:\n",
    " #   if df_merged[col].dtype == 'object' and df_merged[col].nunique() < 25:\n",
    "  #      df_merged[col] = df_merged[col].astype('category')"
   ]
  },
  {
   "cell_type": "code",
   "execution_count": 57,
   "id": "853ca905",
   "metadata": {
    "ExecuteTime": {
     "end_time": "2024-04-01T15:32:45.731292700Z",
     "start_time": "2024-04-01T15:32:41.301244300Z"
    }
   },
   "outputs": [
    {
     "name": "stdout",
     "output_type": "stream",
     "text": [
      "Original shape: (1687612, 158)\n",
      "Encoded shape: (1687612, 409)\n"
     ]
    }
   ],
   "source": [
    "categorical_vars = df_merged.select_dtypes(include=['object','category']).columns.tolist()\n",
    "\n",
    "# Perform one-hot encoding on the identified categorical variables\n",
    "df_encoded = pd.get_dummies(df_merged, columns=categorical_vars)\n",
    "\n",
    "# Optionally, if you want to limit one-hot encoding to specific columns, you can replace 'categorical_vars' with a subset of column names\n",
    "# Example: df_encoded = pd.get_dummies(df, columns=['NAME_CONTRACT_TYPE_x', 'CODE_GENDER'])\n",
    "\n",
    "# Check the shape of the original and encoded dataframe to understand the transformation\n",
    "print(\"Original shape:\", df_merged.shape)\n",
    "print(\"Encoded shape:\", df_encoded.shape)\n",
    "\n",
    "# Display the first few rows of the encoded dataframe\n",
    "#print(df_encoded.head())\n",
    "#print(categorical_vars)"
   ]
  },
  {
   "cell_type": "markdown",
   "id": "ecda1ba6",
   "metadata": {},
   "source": [
    "## REMOVE NA's AGAIN FOR COMBINED DF"
   ]
  },
  {
   "cell_type": "code",
   "execution_count": 58,
   "id": "60e0d34a",
   "metadata": {
    "ExecuteTime": {
     "end_time": "2024-04-01T15:32:46.322325900Z",
     "start_time": "2024-04-01T15:32:45.731292700Z"
    }
   },
   "outputs": [],
   "source": [
    "#CLEAN NEW COMBINED DF\n",
    "all_Xdata_na = (df_encoded.isnull().sum() / len(df_combined)) #* 100\n",
    "all_Xdata_na = all_Xdata_na.drop(all_Xdata_na[all_Xdata_na == 0].index).sort_values(ascending=False)[:300]\n",
    "missing_data = pd.DataFrame({'Missing Data Percent' :all_Xdata_na})"
   ]
  },
  {
   "cell_type": "code",
   "execution_count": 59,
   "id": "d0481944",
   "metadata": {
    "scrolled": true,
    "ExecuteTime": {
     "end_time": "2024-04-01T15:32:46.329709400Z",
     "start_time": "2024-04-01T15:32:46.322325900Z"
    }
   },
   "outputs": [
    {
     "data": {
      "text/plain": "Empty DataFrame\nColumns: [Missing Data Percent]\nIndex: []",
      "text/html": "<div>\n<style scoped>\n    .dataframe tbody tr th:only-of-type {\n        vertical-align: middle;\n    }\n\n    .dataframe tbody tr th {\n        vertical-align: top;\n    }\n\n    .dataframe thead th {\n        text-align: right;\n    }\n</style>\n<table border=\"1\" class=\"dataframe\">\n  <thead>\n    <tr style=\"text-align: right;\">\n      <th></th>\n      <th>Missing Data Percent</th>\n    </tr>\n  </thead>\n  <tbody>\n  </tbody>\n</table>\n</div>"
     },
     "execution_count": 59,
     "metadata": {},
     "output_type": "execute_result"
    }
   ],
   "source": [
    "pd.set_option('display.max_rows', None)\n",
    "missing_data"
   ]
  },
  {
   "cell_type": "code",
   "execution_count": 60,
   "id": "76cb152c",
   "metadata": {
    "ExecuteTime": {
     "end_time": "2024-04-01T15:32:46.466504700Z",
     "start_time": "2024-04-01T15:32:46.328711100Z"
    }
   },
   "outputs": [],
   "source": [
    "for col in df_encoded.columns:\n",
    "    # Check if the column is of float64 data type and has missing or NA values\n",
    "    if df_encoded[col].dtype == 'float64' and df_encoded[col].isnull().any():\n",
    "        # Calculate the median of the column\n",
    "        median_value = df_encoded[col].median()\n",
    "        # Fill missing values with the median\n",
    "        df_encoded[col].fillna(median_value, inplace=True)"
   ]
  },
  {
   "cell_type": "code",
   "execution_count": 61,
   "id": "573763783244f8b0",
   "metadata": {
    "ExecuteTime": {
     "end_time": "2024-04-01T15:32:50.291952500Z",
     "start_time": "2024-04-01T15:32:46.468507900Z"
    }
   },
   "outputs": [],
   "source": [
    "from sklearn.utils import resample\n",
    "\n",
    "# Assuming df_combined is your combined DataFrame with 'TARGET' column and 'is_test' column\n",
    "\n",
    "# Separate majority and minority classes\n",
    "majority_class = df_encoded[df_encoded['TARGET'] == 0]\n",
    "minority_class = df_encoded[df_encoded['TARGET'] == 1]\n",
    "\n",
    "# Downsample majority class\n",
    "desired_ratio = 0.3  # Desired ratio for majority to minority class\n",
    "downsampled_majority = resample(majority_class, \n",
    "                                replace=False,  # Sample without replacement to avoid duplication\n",
    "                                n_samples=int(len(minority_class) / desired_ratio),  # Downsample to match desired ratio\n",
    "                                random_state=42)  # Set random state for reproducibility\n",
    "\n",
    "# Combine minority class with downsampled majority class\n",
    "df_downsampled = pd.concat([downsampled_majority, minority_class])\n",
    "\n",
    "# Shuffle the DataFrame to mix up the order of the rows\n",
    "df_downsampled = df_downsampled.sample(frac=1, random_state=42).reset_index(drop=True)\n"
   ]
  },
  {
   "cell_type": "markdown",
   "id": "94668b5b",
   "metadata": {},
   "source": [
    "## Modeling"
   ]
  },
  {
   "cell_type": "markdown",
   "id": "157a8be4",
   "metadata": {},
   "source": [
    "### Data Partition"
   ]
  },
  {
   "cell_type": "code",
   "execution_count": 62,
   "id": "a2b240fd",
   "metadata": {
    "ExecuteTime": {
     "end_time": "2024-04-01T15:32:51.014321100Z",
     "start_time": "2024-04-01T15:32:50.301484100Z"
    }
   },
   "outputs": [
    {
     "name": "stdout",
     "output_type": "stream",
     "text": [
      "Training set shape: (427578, 408) (427578,)\n",
      "Validation set shape: (106895, 408) (106895,)\n"
     ]
    }
   ],
   "source": [
    "from sklearn.model_selection import train_test_split\n",
    "\n",
    "# Define your features (X) and target variable (y) based on your EDA\n",
    "X = df_downsampled.drop(columns=['TARGET'])\n",
    "y = df_downsampled['TARGET']\n",
    "\n",
    "# Split the data into training and validation sets\n",
    "X_train, X_val, y_train, y_val = train_test_split(X, y, test_size=0.2, random_state=42)\n",
    "\n",
    "# Check the shape of the resulting sets\n",
    "print(\"Training set shape:\", X_train.shape, y_train.shape)\n",
    "print(\"Validation set shape:\", X_val.shape, y_val.shape)\n"
   ]
  },
  {
   "cell_type": "markdown",
   "id": "9db15985",
   "metadata": {},
   "source": [
    "### Majority Class Classifier"
   ]
  },
  {
   "cell_type": "code",
   "execution_count": 63,
   "id": "f8d697db",
   "metadata": {
    "ExecuteTime": {
     "end_time": "2024-04-01T15:32:51.032254700Z",
     "start_time": "2024-04-01T15:32:51.011321Z"
    }
   },
   "outputs": [
    {
     "name": "stdout",
     "output_type": "stream",
     "text": [
      "Majority Class Classifier Performance:\n",
      "Accuracy: 0.7705318303007624\n"
     ]
    }
   ],
   "source": [
    "from sklearn.metrics import accuracy_score, precision_score, recall_score, f1_score, roc_auc_score\n",
    "\n",
    "# Majority class prediction:\n",
    "majority_class_prediction = [0] * len(y_val)\n",
    "\n",
    "# Calculate evaluation metrics for the majority class classifier\n",
    "accuracy = accuracy_score(y_val, majority_class_prediction)\n",
    "\n",
    "# Print the benchmark performance\n",
    "print(\"Majority Class Classifier Performance:\")\n",
    "print(\"Accuracy:\", accuracy)\n"
   ]
  },
  {
   "cell_type": "markdown",
   "id": "ba4fc763",
   "metadata": {},
   "source": [
    "### Random Forest"
   ]
  },
  {
   "cell_type": "code",
   "execution_count": 64,
   "id": "c5d1ef92",
   "metadata": {
    "ExecuteTime": {
     "end_time": "2024-04-01T15:40:56.520581400Z",
     "start_time": "2024-04-01T15:32:51.033260500Z"
    }
   },
   "outputs": [
    {
     "ename": "KeyboardInterrupt",
     "evalue": "",
     "output_type": "error",
     "traceback": [
      "\u001B[1;31m---------------------------------------------------------------------------\u001B[0m",
      "\u001B[1;31mKeyboardInterrupt\u001B[0m                         Traceback (most recent call last)",
      "Cell \u001B[1;32mIn[64], line 13\u001B[0m\n\u001B[0;32m     10\u001B[0m \u001B[38;5;66;03m# Fit models\u001B[39;00m\n\u001B[0;32m     11\u001B[0m \u001B[38;5;66;03m# logistic_regression.fit(X_train, y_train)\u001B[39;00m\n\u001B[0;32m     12\u001B[0m random_forest\u001B[38;5;241m.\u001B[39mfit(X_train, y_train)\n\u001B[1;32m---> 13\u001B[0m \u001B[43mgradient_boosting\u001B[49m\u001B[38;5;241;43m.\u001B[39;49m\u001B[43mfit\u001B[49m\u001B[43m(\u001B[49m\u001B[43mX_train\u001B[49m\u001B[43m,\u001B[49m\u001B[43m \u001B[49m\u001B[43my_train\u001B[49m\u001B[43m)\u001B[49m\n\u001B[0;32m     15\u001B[0m \u001B[38;5;66;03m# Make predictions\u001B[39;00m\n\u001B[0;32m     16\u001B[0m \u001B[38;5;66;03m# y_pred_lr = logistic_regression.predict(X_val)\u001B[39;00m\n\u001B[0;32m     17\u001B[0m y_pred_rf \u001B[38;5;241m=\u001B[39m random_forest\u001B[38;5;241m.\u001B[39mpredict(X_val)\n",
      "File \u001B[1;32m~\\pythonProject\\Jupyternb\\venv\\Lib\\site-packages\\sklearn\\base.py:1152\u001B[0m, in \u001B[0;36m_fit_context.<locals>.decorator.<locals>.wrapper\u001B[1;34m(estimator, *args, **kwargs)\u001B[0m\n\u001B[0;32m   1145\u001B[0m     estimator\u001B[38;5;241m.\u001B[39m_validate_params()\n\u001B[0;32m   1147\u001B[0m \u001B[38;5;28;01mwith\u001B[39;00m config_context(\n\u001B[0;32m   1148\u001B[0m     skip_parameter_validation\u001B[38;5;241m=\u001B[39m(\n\u001B[0;32m   1149\u001B[0m         prefer_skip_nested_validation \u001B[38;5;129;01mor\u001B[39;00m global_skip_validation\n\u001B[0;32m   1150\u001B[0m     )\n\u001B[0;32m   1151\u001B[0m ):\n\u001B[1;32m-> 1152\u001B[0m     \u001B[38;5;28;01mreturn\u001B[39;00m \u001B[43mfit_method\u001B[49m\u001B[43m(\u001B[49m\u001B[43mestimator\u001B[49m\u001B[43m,\u001B[49m\u001B[43m \u001B[49m\u001B[38;5;241;43m*\u001B[39;49m\u001B[43margs\u001B[49m\u001B[43m,\u001B[49m\u001B[43m \u001B[49m\u001B[38;5;241;43m*\u001B[39;49m\u001B[38;5;241;43m*\u001B[39;49m\u001B[43mkwargs\u001B[49m\u001B[43m)\u001B[49m\n",
      "File \u001B[1;32m~\\pythonProject\\Jupyternb\\venv\\Lib\\site-packages\\sklearn\\ensemble\\_gb.py:532\u001B[0m, in \u001B[0;36mBaseGradientBoosting.fit\u001B[1;34m(self, X, y, sample_weight, monitor)\u001B[0m\n\u001B[0;32m    529\u001B[0m     \u001B[38;5;28mself\u001B[39m\u001B[38;5;241m.\u001B[39m_resize_state()\n\u001B[0;32m    531\u001B[0m \u001B[38;5;66;03m# fit the boosting stages\u001B[39;00m\n\u001B[1;32m--> 532\u001B[0m n_stages \u001B[38;5;241m=\u001B[39m \u001B[38;5;28;43mself\u001B[39;49m\u001B[38;5;241;43m.\u001B[39;49m\u001B[43m_fit_stages\u001B[49m\u001B[43m(\u001B[49m\n\u001B[0;32m    533\u001B[0m \u001B[43m    \u001B[49m\u001B[43mX_train\u001B[49m\u001B[43m,\u001B[49m\n\u001B[0;32m    534\u001B[0m \u001B[43m    \u001B[49m\u001B[43my_train\u001B[49m\u001B[43m,\u001B[49m\n\u001B[0;32m    535\u001B[0m \u001B[43m    \u001B[49m\u001B[43mraw_predictions\u001B[49m\u001B[43m,\u001B[49m\n\u001B[0;32m    536\u001B[0m \u001B[43m    \u001B[49m\u001B[43msample_weight_train\u001B[49m\u001B[43m,\u001B[49m\n\u001B[0;32m    537\u001B[0m \u001B[43m    \u001B[49m\u001B[38;5;28;43mself\u001B[39;49m\u001B[38;5;241;43m.\u001B[39;49m\u001B[43m_rng\u001B[49m\u001B[43m,\u001B[49m\n\u001B[0;32m    538\u001B[0m \u001B[43m    \u001B[49m\u001B[43mX_val\u001B[49m\u001B[43m,\u001B[49m\n\u001B[0;32m    539\u001B[0m \u001B[43m    \u001B[49m\u001B[43my_val\u001B[49m\u001B[43m,\u001B[49m\n\u001B[0;32m    540\u001B[0m \u001B[43m    \u001B[49m\u001B[43msample_weight_val\u001B[49m\u001B[43m,\u001B[49m\n\u001B[0;32m    541\u001B[0m \u001B[43m    \u001B[49m\u001B[43mbegin_at_stage\u001B[49m\u001B[43m,\u001B[49m\n\u001B[0;32m    542\u001B[0m \u001B[43m    \u001B[49m\u001B[43mmonitor\u001B[49m\u001B[43m,\u001B[49m\n\u001B[0;32m    543\u001B[0m \u001B[43m\u001B[49m\u001B[43m)\u001B[49m\n\u001B[0;32m    545\u001B[0m \u001B[38;5;66;03m# change shape of arrays after fit (early-stopping or additional ests)\u001B[39;00m\n\u001B[0;32m    546\u001B[0m \u001B[38;5;28;01mif\u001B[39;00m n_stages \u001B[38;5;241m!=\u001B[39m \u001B[38;5;28mself\u001B[39m\u001B[38;5;241m.\u001B[39mestimators_\u001B[38;5;241m.\u001B[39mshape[\u001B[38;5;241m0\u001B[39m]:\n",
      "File \u001B[1;32m~\\pythonProject\\Jupyternb\\venv\\Lib\\site-packages\\sklearn\\ensemble\\_gb.py:610\u001B[0m, in \u001B[0;36mBaseGradientBoosting._fit_stages\u001B[1;34m(self, X, y, raw_predictions, sample_weight, random_state, X_val, y_val, sample_weight_val, begin_at_stage, monitor)\u001B[0m\n\u001B[0;32m    603\u001B[0m         initial_loss \u001B[38;5;241m=\u001B[39m loss_(\n\u001B[0;32m    604\u001B[0m             y[\u001B[38;5;241m~\u001B[39msample_mask],\n\u001B[0;32m    605\u001B[0m             raw_predictions[\u001B[38;5;241m~\u001B[39msample_mask],\n\u001B[0;32m    606\u001B[0m             sample_weight[\u001B[38;5;241m~\u001B[39msample_mask],\n\u001B[0;32m    607\u001B[0m         )\n\u001B[0;32m    609\u001B[0m \u001B[38;5;66;03m# fit next stage of trees\u001B[39;00m\n\u001B[1;32m--> 610\u001B[0m raw_predictions \u001B[38;5;241m=\u001B[39m \u001B[38;5;28;43mself\u001B[39;49m\u001B[38;5;241;43m.\u001B[39;49m\u001B[43m_fit_stage\u001B[49m\u001B[43m(\u001B[49m\n\u001B[0;32m    611\u001B[0m \u001B[43m    \u001B[49m\u001B[43mi\u001B[49m\u001B[43m,\u001B[49m\n\u001B[0;32m    612\u001B[0m \u001B[43m    \u001B[49m\u001B[43mX\u001B[49m\u001B[43m,\u001B[49m\n\u001B[0;32m    613\u001B[0m \u001B[43m    \u001B[49m\u001B[43my\u001B[49m\u001B[43m,\u001B[49m\n\u001B[0;32m    614\u001B[0m \u001B[43m    \u001B[49m\u001B[43mraw_predictions\u001B[49m\u001B[43m,\u001B[49m\n\u001B[0;32m    615\u001B[0m \u001B[43m    \u001B[49m\u001B[43msample_weight\u001B[49m\u001B[43m,\u001B[49m\n\u001B[0;32m    616\u001B[0m \u001B[43m    \u001B[49m\u001B[43msample_mask\u001B[49m\u001B[43m,\u001B[49m\n\u001B[0;32m    617\u001B[0m \u001B[43m    \u001B[49m\u001B[43mrandom_state\u001B[49m\u001B[43m,\u001B[49m\n\u001B[0;32m    618\u001B[0m \u001B[43m    \u001B[49m\u001B[43mX_csc\u001B[49m\u001B[43m,\u001B[49m\n\u001B[0;32m    619\u001B[0m \u001B[43m    \u001B[49m\u001B[43mX_csr\u001B[49m\u001B[43m,\u001B[49m\n\u001B[0;32m    620\u001B[0m \u001B[43m\u001B[49m\u001B[43m)\u001B[49m\n\u001B[0;32m    622\u001B[0m \u001B[38;5;66;03m# track loss\u001B[39;00m\n\u001B[0;32m    623\u001B[0m \u001B[38;5;28;01mif\u001B[39;00m do_oob:\n",
      "File \u001B[1;32m~\\pythonProject\\Jupyternb\\venv\\Lib\\site-packages\\sklearn\\ensemble\\_gb.py:245\u001B[0m, in \u001B[0;36mBaseGradientBoosting._fit_stage\u001B[1;34m(self, i, X, y, raw_predictions, sample_weight, sample_mask, random_state, X_csc, X_csr)\u001B[0m\n\u001B[0;32m    242\u001B[0m     sample_weight \u001B[38;5;241m=\u001B[39m sample_weight \u001B[38;5;241m*\u001B[39m sample_mask\u001B[38;5;241m.\u001B[39mastype(np\u001B[38;5;241m.\u001B[39mfloat64)\n\u001B[0;32m    244\u001B[0m X \u001B[38;5;241m=\u001B[39m X_csr \u001B[38;5;28;01mif\u001B[39;00m X_csr \u001B[38;5;129;01mis\u001B[39;00m \u001B[38;5;129;01mnot\u001B[39;00m \u001B[38;5;28;01mNone\u001B[39;00m \u001B[38;5;28;01melse\u001B[39;00m X\n\u001B[1;32m--> 245\u001B[0m \u001B[43mtree\u001B[49m\u001B[38;5;241;43m.\u001B[39;49m\u001B[43mfit\u001B[49m\u001B[43m(\u001B[49m\u001B[43mX\u001B[49m\u001B[43m,\u001B[49m\u001B[43m \u001B[49m\u001B[43mresidual\u001B[49m\u001B[43m,\u001B[49m\u001B[43m \u001B[49m\u001B[43msample_weight\u001B[49m\u001B[38;5;241;43m=\u001B[39;49m\u001B[43msample_weight\u001B[49m\u001B[43m,\u001B[49m\u001B[43m \u001B[49m\u001B[43mcheck_input\u001B[49m\u001B[38;5;241;43m=\u001B[39;49m\u001B[38;5;28;43;01mFalse\u001B[39;49;00m\u001B[43m)\u001B[49m\n\u001B[0;32m    247\u001B[0m \u001B[38;5;66;03m# update tree leaves\u001B[39;00m\n\u001B[0;32m    248\u001B[0m loss\u001B[38;5;241m.\u001B[39mupdate_terminal_regions(\n\u001B[0;32m    249\u001B[0m     tree\u001B[38;5;241m.\u001B[39mtree_,\n\u001B[0;32m    250\u001B[0m     X,\n\u001B[1;32m   (...)\u001B[0m\n\u001B[0;32m    257\u001B[0m     k\u001B[38;5;241m=\u001B[39mk,\n\u001B[0;32m    258\u001B[0m )\n",
      "File \u001B[1;32m~\\pythonProject\\Jupyternb\\venv\\Lib\\site-packages\\sklearn\\base.py:1152\u001B[0m, in \u001B[0;36m_fit_context.<locals>.decorator.<locals>.wrapper\u001B[1;34m(estimator, *args, **kwargs)\u001B[0m\n\u001B[0;32m   1145\u001B[0m     estimator\u001B[38;5;241m.\u001B[39m_validate_params()\n\u001B[0;32m   1147\u001B[0m \u001B[38;5;28;01mwith\u001B[39;00m config_context(\n\u001B[0;32m   1148\u001B[0m     skip_parameter_validation\u001B[38;5;241m=\u001B[39m(\n\u001B[0;32m   1149\u001B[0m         prefer_skip_nested_validation \u001B[38;5;129;01mor\u001B[39;00m global_skip_validation\n\u001B[0;32m   1150\u001B[0m     )\n\u001B[0;32m   1151\u001B[0m ):\n\u001B[1;32m-> 1152\u001B[0m     \u001B[38;5;28;01mreturn\u001B[39;00m \u001B[43mfit_method\u001B[49m\u001B[43m(\u001B[49m\u001B[43mestimator\u001B[49m\u001B[43m,\u001B[49m\u001B[43m \u001B[49m\u001B[38;5;241;43m*\u001B[39;49m\u001B[43margs\u001B[49m\u001B[43m,\u001B[49m\u001B[43m \u001B[49m\u001B[38;5;241;43m*\u001B[39;49m\u001B[38;5;241;43m*\u001B[39;49m\u001B[43mkwargs\u001B[49m\u001B[43m)\u001B[49m\n",
      "File \u001B[1;32m~\\pythonProject\\Jupyternb\\venv\\Lib\\site-packages\\sklearn\\tree\\_classes.py:1320\u001B[0m, in \u001B[0;36mDecisionTreeRegressor.fit\u001B[1;34m(self, X, y, sample_weight, check_input)\u001B[0m\n\u001B[0;32m   1290\u001B[0m \u001B[38;5;129m@_fit_context\u001B[39m(prefer_skip_nested_validation\u001B[38;5;241m=\u001B[39m\u001B[38;5;28;01mTrue\u001B[39;00m)\n\u001B[0;32m   1291\u001B[0m \u001B[38;5;28;01mdef\u001B[39;00m \u001B[38;5;21mfit\u001B[39m(\u001B[38;5;28mself\u001B[39m, X, y, sample_weight\u001B[38;5;241m=\u001B[39m\u001B[38;5;28;01mNone\u001B[39;00m, check_input\u001B[38;5;241m=\u001B[39m\u001B[38;5;28;01mTrue\u001B[39;00m):\n\u001B[0;32m   1292\u001B[0m \u001B[38;5;250m    \u001B[39m\u001B[38;5;124;03m\"\"\"Build a decision tree regressor from the training set (X, y).\u001B[39;00m\n\u001B[0;32m   1293\u001B[0m \n\u001B[0;32m   1294\u001B[0m \u001B[38;5;124;03m    Parameters\u001B[39;00m\n\u001B[1;32m   (...)\u001B[0m\n\u001B[0;32m   1317\u001B[0m \u001B[38;5;124;03m        Fitted estimator.\u001B[39;00m\n\u001B[0;32m   1318\u001B[0m \u001B[38;5;124;03m    \"\"\"\u001B[39;00m\n\u001B[1;32m-> 1320\u001B[0m     \u001B[38;5;28;43msuper\u001B[39;49m\u001B[43m(\u001B[49m\u001B[43m)\u001B[49m\u001B[38;5;241;43m.\u001B[39;49m\u001B[43m_fit\u001B[49m\u001B[43m(\u001B[49m\n\u001B[0;32m   1321\u001B[0m \u001B[43m        \u001B[49m\u001B[43mX\u001B[49m\u001B[43m,\u001B[49m\n\u001B[0;32m   1322\u001B[0m \u001B[43m        \u001B[49m\u001B[43my\u001B[49m\u001B[43m,\u001B[49m\n\u001B[0;32m   1323\u001B[0m \u001B[43m        \u001B[49m\u001B[43msample_weight\u001B[49m\u001B[38;5;241;43m=\u001B[39;49m\u001B[43msample_weight\u001B[49m\u001B[43m,\u001B[49m\n\u001B[0;32m   1324\u001B[0m \u001B[43m        \u001B[49m\u001B[43mcheck_input\u001B[49m\u001B[38;5;241;43m=\u001B[39;49m\u001B[43mcheck_input\u001B[49m\u001B[43m,\u001B[49m\n\u001B[0;32m   1325\u001B[0m \u001B[43m    \u001B[49m\u001B[43m)\u001B[49m\n\u001B[0;32m   1326\u001B[0m     \u001B[38;5;28;01mreturn\u001B[39;00m \u001B[38;5;28mself\u001B[39m\n",
      "File \u001B[1;32m~\\pythonProject\\Jupyternb\\venv\\Lib\\site-packages\\sklearn\\tree\\_classes.py:443\u001B[0m, in \u001B[0;36mBaseDecisionTree._fit\u001B[1;34m(self, X, y, sample_weight, check_input, missing_values_in_feature_mask)\u001B[0m\n\u001B[0;32m    432\u001B[0m \u001B[38;5;28;01melse\u001B[39;00m:\n\u001B[0;32m    433\u001B[0m     builder \u001B[38;5;241m=\u001B[39m BestFirstTreeBuilder(\n\u001B[0;32m    434\u001B[0m         splitter,\n\u001B[0;32m    435\u001B[0m         min_samples_split,\n\u001B[1;32m   (...)\u001B[0m\n\u001B[0;32m    440\u001B[0m         \u001B[38;5;28mself\u001B[39m\u001B[38;5;241m.\u001B[39mmin_impurity_decrease,\n\u001B[0;32m    441\u001B[0m     )\n\u001B[1;32m--> 443\u001B[0m \u001B[43mbuilder\u001B[49m\u001B[38;5;241;43m.\u001B[39;49m\u001B[43mbuild\u001B[49m\u001B[43m(\u001B[49m\u001B[38;5;28;43mself\u001B[39;49m\u001B[38;5;241;43m.\u001B[39;49m\u001B[43mtree_\u001B[49m\u001B[43m,\u001B[49m\u001B[43m \u001B[49m\u001B[43mX\u001B[49m\u001B[43m,\u001B[49m\u001B[43m \u001B[49m\u001B[43my\u001B[49m\u001B[43m,\u001B[49m\u001B[43m \u001B[49m\u001B[43msample_weight\u001B[49m\u001B[43m,\u001B[49m\u001B[43m \u001B[49m\u001B[43mmissing_values_in_feature_mask\u001B[49m\u001B[43m)\u001B[49m\n\u001B[0;32m    445\u001B[0m \u001B[38;5;28;01mif\u001B[39;00m \u001B[38;5;28mself\u001B[39m\u001B[38;5;241m.\u001B[39mn_outputs_ \u001B[38;5;241m==\u001B[39m \u001B[38;5;241m1\u001B[39m \u001B[38;5;129;01mand\u001B[39;00m is_classifier(\u001B[38;5;28mself\u001B[39m):\n\u001B[0;32m    446\u001B[0m     \u001B[38;5;28mself\u001B[39m\u001B[38;5;241m.\u001B[39mn_classes_ \u001B[38;5;241m=\u001B[39m \u001B[38;5;28mself\u001B[39m\u001B[38;5;241m.\u001B[39mn_classes_[\u001B[38;5;241m0\u001B[39m]\n",
      "\u001B[1;31mKeyboardInterrupt\u001B[0m: "
     ]
    }
   ],
   "source": [
    "# from sklearn.linear_model import LogisticRegression\n",
    "from sklearn.ensemble import RandomForestClassifier, GradientBoostingClassifier\n",
    "from sklearn.metrics import accuracy_score, recall_score, f1_score, roc_auc_score\n",
    "\n",
    "# Initialize models\n",
    "# logistic_regression = LogisticRegression(random_state=42, max_iter=1000)\n",
    "random_forest = RandomForestClassifier(random_state=42)\n",
    "gradient_boosting = GradientBoostingClassifier(random_state=42)\n",
    "\n",
    "# Fit models\n",
    "# logistic_regression.fit(X_train, y_train)\n",
    "random_forest.fit(X_train, y_train)\n",
    "gradient_boosting.fit(X_train, y_train)\n",
    "\n",
    "# Make predictions\n",
    "# y_pred_lr = logistic_regression.predict(X_val)\n",
    "y_pred_rf = random_forest.predict(X_val)\n",
    "y_pred_gb = gradient_boosting.predict(X_val)\n",
    "\n",
    "# Calculate evaluation metrics\n",
    "metrics_lr = [accuracy_score, recall_score, f1_score, roc_auc_score]\n",
    "metrics_rf_gb = [accuracy_score, recall_score, f1_score]\n",
    "\n",
    "results = {}\n",
    "\n",
    "# Logistic Regression Metrics\n",
    "# results['Logistic Regression'] = {metric.__name__: metric(y_val, y_pred_lr) for metric in metrics_lr}\n",
    "\n",
    "# Random Forest Metrics\n",
    "results['Random Forest'] = {metric.__name__: metric(y_val, y_pred_rf) for metric in metrics_rf_gb}\n",
    "\n",
    "# Gradient Boosting Metrics\n",
    "results['Gradient Boosting'] = {metric.__name__: metric(y_val, y_pred_gb) for metric in metrics_rf_gb}\n",
    "\n",
    "# Print results\n",
    "for model, metrics in results.items():\n",
    "    print(f\"{model} Metrics:\")\n",
    "    for metric, value in metrics.items():\n",
    "        print(f\"{metric}: {value}\")\n",
    "    print()"
   ]
  },
  {
   "cell_type": "markdown",
   "id": "abaec554",
   "metadata": {},
   "source": [
    "### Logistic Regression"
   ]
  },
  {
   "cell_type": "code",
   "execution_count": null,
   "id": "721df141",
   "metadata": {
    "ExecuteTime": {
     "start_time": "2024-04-01T15:40:56.518577500Z"
    }
   },
   "outputs": [],
   "source": [
    "from sklearn.linear_model import LogisticRegression\n",
    "from sklearn.metrics import accuracy_score, recall_score, f1_score, roc_auc_score\n",
    "\n",
    "# Drop the 'NAME_CONTRACT_TYPE' column from both X_train and X_val\n",
    "#X_train.drop(columns=['ORGANIZATION_TYPE'], inplace=True, errors='ignore')  \n",
    "#X_train.drop(columns=['NAME_CASH_LOAN_PURPOSE'], inplace=True, errors='ignore') \n",
    "#X_train.drop(columns=['NAME_GOODS_CATEGORY'], inplace=True, errors='ignore') \n",
    "#X_val.drop(columns=['ORGANIZATION_TYPE'], inplace=True, errors='ignore')  \n",
    "#X_val.drop(columns=['NAME_CASH_LOAN_PURPOSE'], inplace=True, errors='ignore')  \n",
    "#X_val.drop(columns=['NAME_GOODS_CATEGORY'], inplace=True, errors='ignore') \n",
    "# Initialize logistic regression model\n",
    "model = LogisticRegression(random_state=42, max_iter=1000)\n",
    "\n",
    "# Fit the model on training data\n",
    "model.fit(X_train, y_train)\n",
    "\n",
    "# Make predictions on validation set\n",
    "y_pred = model.predict(X_val)\n",
    "y_proba = model.predict_proba(X_val)[:, 1]\n",
    "\n",
    "# Calculate evaluation metrics\n",
    "accuracy = accuracy_score(y_val, y_pred)\n",
    "recall = recall_score(y_val, y_pred)\n",
    "f1 = f1_score(y_val, y_pred)\n",
    "roc_auc = roc_auc_score(y_val, y_proba)\n",
    "\n",
    "# Print the evaluation metrics\n",
    "print(\"Performance Metrics:\")\n",
    "print(\"Accuracy:\", accuracy)\n",
    "print(\"Recall:\", recall)\n",
    "print(\"F1-score:\", f1)\n",
    "print(\"AUC-ROC Score:\", roc_auc)\n"
   ]
  },
  {
   "cell_type": "code",
   "execution_count": null,
   "id": "91c3042a",
   "metadata": {
    "ExecuteTime": {
     "start_time": "2024-04-01T15:40:56.519578200Z"
    }
   },
   "outputs": [],
   "source": []
  },
  {
   "cell_type": "code",
   "execution_count": null,
   "id": "8948dc3d",
   "metadata": {
    "ExecuteTime": {
     "end_time": "2024-04-01T15:40:56.524701900Z",
     "start_time": "2024-04-01T15:40:56.520581400Z"
    }
   },
   "outputs": [],
   "source": []
  }
 ],
 "metadata": {
  "kernelspec": {
   "display_name": "Python 3 (ipykernel)",
   "language": "python",
   "name": "python3"
  },
  "language_info": {
   "codemirror_mode": {
    "name": "ipython",
    "version": 3
   },
   "file_extension": ".py",
   "mimetype": "text/x-python",
   "name": "python",
   "nbconvert_exporter": "python",
   "pygments_lexer": "ipython3",
   "version": "3.11.5"
  }
 },
 "nbformat": 4,
 "nbformat_minor": 5
}
