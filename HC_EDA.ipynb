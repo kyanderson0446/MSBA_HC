{
 "cells": [
  {
   "cell_type": "code",
   "outputs": [],
   "source": [
    "import pandas as pd\n",
    "import matplotlib.pyplot as plt\n",
    "import seaborn as sns\n",
    "import numpy as np\n"
   ],
   "metadata": {
    "collapsed": false,
    "ExecuteTime": {
     "end_time": "2024-03-29T06:48:58.805603800Z",
     "start_time": "2024-03-29T06:48:58.800200200Z"
    }
   },
   "id": "6cc9f72dcd277e3a",
   "execution_count": 1
  },
  {
   "cell_type": "markdown",
   "source": [
    "## Read in data by chunks"
   ],
   "metadata": {
    "collapsed": false
   },
   "id": "52ebcd9eeb6a5ed3"
  },
  {
   "cell_type": "code",
   "execution_count": 2,
   "id": "initial_id",
   "metadata": {
    "collapsed": true,
    "ExecuteTime": {
     "end_time": "2024-03-29T06:49:00.474356500Z",
     "start_time": "2024-03-29T06:48:58.806604Z"
    }
   },
   "outputs": [],
   "source": [
    "train_main = fr\"C:\\Users\\kyle.anderson\\Downloads\\home-credit-default-risk\\application_train_cut.csv\"\n",
    "test_main = fr\"C:\\Users\\kyle.anderson\\Downloads\\home-credit-default-risk\\application_test.csv\"\n",
    "\n",
    "# Chunk size\n",
    "chunk_size = 25000  # You can adjust this value as needed\n",
    "\n",
    "# Initialize empty list to store chunks\n",
    "chunks_t = []\n",
    "chunks_e = []\n",
    "\n",
    "# Read train data in chunks\n",
    "for chunk in pd.read_csv(train_main, index_col=False, chunksize=chunk_size, low_memory=False):\n",
    "    chunks_t.append(chunk)\n",
    "\n",
    "# Read test data in chunks\n",
    "for chunk in pd.read_csv(test_main, index_col=False, chunksize=chunk_size, low_memory=False):\n",
    "    chunks_e.append(chunk)\n",
    "\n",
    "# Concatenate chunks to create final DataFrame\n",
    "df_t = pd.concat(chunks_t, ignore_index=True)\n",
    "df_e = pd.concat(chunks_e, ignore_index=True)"
   ]
  },
  {
   "cell_type": "markdown",
   "source": [
    "## Reference Data Types"
   ],
   "metadata": {
    "collapsed": false
   },
   "id": "e278dada25538de4"
  },
  {
   "cell_type": "code",
   "outputs": [
    {
     "name": "stdout",
     "output_type": "stream",
     "text": [
      "SK_ID_CURR                      float64\n",
      "TARGET                          float64\n",
      "NAME_CONTRACT_TYPE               object\n",
      "CODE_GENDER                      object\n",
      "FLAG_OWN_CAR                     object\n",
      "FLAG_OWN_REALTY                  object\n",
      "CNT_CHILDREN                    float64\n",
      "AMT_INCOME_TOTAL                float64\n",
      "AMT_CREDIT                      float64\n",
      "AMT_ANNUITY                     float64\n",
      "AMT_GOODS_PRICE                 float64\n",
      "NAME_TYPE_SUITE                  object\n",
      "NAME_INCOME_TYPE                 object\n",
      "NAME_EDUCATION_TYPE              object\n",
      "NAME_FAMILY_STATUS               object\n",
      "NAME_HOUSING_TYPE                object\n",
      "REGION_POPULATION_RELATIVE      float64\n",
      "DAYS_BIRTH                      float64\n",
      "DAYS_EMPLOYED                   float64\n",
      "DAYS_REGISTRATION               float64\n",
      "DAYS_ID_PUBLISH                 float64\n",
      "OWN_CAR_AGE                     float64\n",
      "FLAG_MOBIL                      float64\n",
      "FLAG_EMP_PHONE                  float64\n",
      "FLAG_WORK_PHONE                 float64\n",
      "FLAG_CONT_MOBILE                float64\n",
      "FLAG_PHONE                      float64\n",
      "FLAG_EMAIL                      float64\n",
      "OCCUPATION_TYPE                  object\n",
      "CNT_FAM_MEMBERS                 float64\n",
      "REGION_RATING_CLIENT            float64\n",
      "REGION_RATING_CLIENT_W_CITY     float64\n",
      "WEEKDAY_APPR_PROCESS_START       object\n",
      "HOUR_APPR_PROCESS_START         float64\n",
      "REG_REGION_NOT_LIVE_REGION      float64\n",
      "REG_REGION_NOT_WORK_REGION      float64\n",
      "LIVE_REGION_NOT_WORK_REGION     float64\n",
      "REG_CITY_NOT_LIVE_CITY          float64\n",
      "REG_CITY_NOT_WORK_CITY          float64\n",
      "LIVE_CITY_NOT_WORK_CITY         float64\n",
      "ORGANIZATION_TYPE                object\n",
      "EXT_SOURCE_1                    float64\n",
      "EXT_SOURCE_2                    float64\n",
      "EXT_SOURCE_3                    float64\n",
      "APARTMENTS_AVG                  float64\n",
      "BASEMENTAREA_AVG                float64\n",
      "YEARS_BEGINEXPLUATATION_AVG     float64\n",
      "YEARS_BUILD_AVG                 float64\n",
      "COMMONAREA_AVG                  float64\n",
      "ELEVATORS_AVG                   float64\n",
      "ENTRANCES_AVG                   float64\n",
      "FLOORSMAX_AVG                   float64\n",
      "FLOORSMIN_AVG                   float64\n",
      "LANDAREA_AVG                    float64\n",
      "LIVINGAPARTMENTS_AVG            float64\n",
      "LIVINGAREA_AVG                  float64\n",
      "NONLIVINGAPARTMENTS_AVG         float64\n",
      "NONLIVINGAREA_AVG               float64\n",
      "APARTMENTS_MODE                 float64\n",
      "BASEMENTAREA_MODE               float64\n",
      "YEARS_BEGINEXPLUATATION_MODE    float64\n",
      "YEARS_BUILD_MODE                float64\n",
      "COMMONAREA_MODE                 float64\n",
      "ELEVATORS_MODE                  float64\n",
      "ENTRANCES_MODE                  float64\n",
      "FLOORSMAX_MODE                  float64\n",
      "FLOORSMIN_MODE                  float64\n",
      "LANDAREA_MODE                   float64\n",
      "LIVINGAPARTMENTS_MODE           float64\n",
      "LIVINGAREA_MODE                 float64\n",
      "NONLIVINGAPARTMENTS_MODE        float64\n",
      "NONLIVINGAREA_MODE              float64\n",
      "APARTMENTS_MEDI                 float64\n",
      "BASEMENTAREA_MEDI               float64\n",
      "YEARS_BEGINEXPLUATATION_MEDI    float64\n",
      "YEARS_BUILD_MEDI                float64\n",
      "COMMONAREA_MEDI                 float64\n",
      "ELEVATORS_MEDI                  float64\n",
      "ENTRANCES_MEDI                  float64\n",
      "FLOORSMAX_MEDI                  float64\n",
      "FLOORSMIN_MEDI                  float64\n",
      "LANDAREA_MEDI                   float64\n",
      "LIVINGAPARTMENTS_MEDI           float64\n",
      "LIVINGAREA_MEDI                 float64\n",
      "NONLIVINGAPARTMENTS_MEDI        float64\n",
      "NONLIVINGAREA_MEDI              float64\n",
      "FONDKAPREMONT_MODE               object\n",
      "HOUSETYPE_MODE                   object\n",
      "TOTALAREA_MODE                  float64\n",
      "WALLSMATERIAL_MODE               object\n",
      "EMERGENCYSTATE_MODE              object\n",
      "OBS_30_CNT_SOCIAL_CIRCLE        float64\n",
      "DEF_30_CNT_SOCIAL_CIRCLE        float64\n",
      "OBS_60_CNT_SOCIAL_CIRCLE        float64\n",
      "DEF_60_CNT_SOCIAL_CIRCLE        float64\n",
      "DAYS_LAST_PHONE_CHANGE          float64\n",
      "FLAG_DOCUMENT_2                 float64\n",
      "FLAG_DOCUMENT_3                 float64\n",
      "FLAG_DOCUMENT_4                 float64\n",
      "FLAG_DOCUMENT_5                 float64\n",
      "FLAG_DOCUMENT_6                 float64\n",
      "FLAG_DOCUMENT_7                 float64\n",
      "FLAG_DOCUMENT_8                 float64\n",
      "FLAG_DOCUMENT_9                 float64\n",
      "FLAG_DOCUMENT_10                float64\n",
      "FLAG_DOCUMENT_11                float64\n",
      "FLAG_DOCUMENT_12                float64\n",
      "FLAG_DOCUMENT_13                float64\n",
      "FLAG_DOCUMENT_14                float64\n",
      "FLAG_DOCUMENT_15                float64\n",
      "FLAG_DOCUMENT_16                float64\n",
      "FLAG_DOCUMENT_17                float64\n",
      "FLAG_DOCUMENT_18                float64\n",
      "FLAG_DOCUMENT_19                float64\n",
      "FLAG_DOCUMENT_20                float64\n",
      "FLAG_DOCUMENT_21                float64\n",
      "AMT_REQ_CREDIT_BUREAU_HOUR      float64\n",
      "AMT_REQ_CREDIT_BUREAU_DAY       float64\n",
      "AMT_REQ_CREDIT_BUREAU_WEEK      float64\n",
      "AMT_REQ_CREDIT_BUREAU_MON       float64\n",
      "AMT_REQ_CREDIT_BUREAU_QRT       float64\n",
      "AMT_REQ_CREDIT_BUREAU_YEAR      float64\n",
      "dtype: object\n"
     ]
    }
   ],
   "source": [
    "pd.set_option('display.max_rows', None)\n",
    "data_types = df_t.dtypes\n",
    "print(data_types)"
   ],
   "metadata": {
    "collapsed": false,
    "ExecuteTime": {
     "end_time": "2024-03-29T06:49:00.500365800Z",
     "start_time": "2024-03-29T06:49:00.476353900Z"
    }
   },
   "id": "c8b570b584e1277",
   "execution_count": 3
  },
  {
   "cell_type": "code",
   "outputs": [
    {
     "name": "stdout",
     "output_type": "stream",
     "text": [
      "<class 'pandas.core.frame.DataFrame'>\n",
      "RangeIndex: 48744 entries, 0 to 48743\n",
      "Columns: 121 entries, SK_ID_CURR to AMT_REQ_CREDIT_BUREAU_YEAR\n",
      "dtypes: float64(65), int64(40), object(16)\n",
      "memory usage: 45.0+ MB\n"
     ]
    }
   ],
   "source": [
    "df_e.info()"
   ],
   "metadata": {
    "collapsed": false,
    "ExecuteTime": {
     "end_time": "2024-03-29T06:49:00.507340800Z",
     "start_time": "2024-03-29T06:49:00.500365800Z"
    }
   },
   "id": "e6a8d8cf640f0faa",
   "execution_count": 4
  },
  {
   "cell_type": "markdown",
   "source": [
    "* Comment out heatmap"
   ],
   "metadata": {
    "collapsed": false
   },
   "id": "b5f37d12c4c92660"
  },
  {
   "cell_type": "code",
   "outputs": [],
   "source": [
    "# numeric_feats = df_t.dtypes[df_t.dtypes != \"object\"].index\n",
    "# plt.figure(figsize=(80,18))\n",
    "# sns.heatmap(df_t[numeric_feats].corr(), annot=False, square=True, cmap='coolwarm')\n",
    "# plt.show()"
   ],
   "metadata": {
    "collapsed": false,
    "ExecuteTime": {
     "end_time": "2024-03-29T06:49:00.512629Z",
     "start_time": "2024-03-29T06:49:00.508341400Z"
    }
   },
   "id": "437ee566bda62a5c",
   "execution_count": 5
  },
  {
   "cell_type": "markdown",
   "source": [
    "## Correlations"
   ],
   "metadata": {
    "collapsed": false
   },
   "id": "445e1d11fd2c3fd9"
  },
  {
   "cell_type": "code",
   "outputs": [
    {
     "name": "stdout",
     "output_type": "stream",
     "text": [
      "Top 30 positive correlations:\n",
      "TARGET                         1.000000\n",
      "DAYS_BIRTH                     0.077165\n",
      "REGION_RATING_CLIENT_W_CITY    0.061168\n",
      "REGION_RATING_CLIENT           0.060045\n",
      "DAYS_LAST_PHONE_CHANGE         0.053343\n",
      "DAYS_ID_PUBLISH                0.052937\n",
      "REG_CITY_NOT_WORK_CITY         0.051603\n",
      "FLAG_DOCUMENT_3                0.045144\n",
      "FLAG_EMP_PHONE                 0.044725\n",
      "OWN_CAR_AGE                    0.043129\n",
      "REG_CITY_NOT_LIVE_CITY         0.039695\n",
      "DAYS_REGISTRATION              0.039146\n",
      "LIVE_CITY_NOT_WORK_CITY        0.035313\n",
      "DEF_60_CNT_SOCIAL_CIRCLE       0.034978\n",
      "DEF_30_CNT_SOCIAL_CIRCLE       0.033525\n",
      "FLAG_WORK_PHONE                0.026807\n",
      "AMT_REQ_CREDIT_BUREAU_YEAR     0.019115\n",
      "CNT_CHILDREN                   0.018864\n",
      "OBS_30_CNT_SOCIAL_CIRCLE       0.011141\n",
      "OBS_60_CNT_SOCIAL_CIRCLE       0.011028\n",
      "CNT_FAM_MEMBERS                0.007649\n",
      "NONLIVINGAPARTMENTS_MODE       0.007373\n",
      "FLAG_DOCUMENT_2                0.006616\n",
      "REG_REGION_NOT_WORK_REGION     0.006226\n",
      "REG_REGION_NOT_LIVE_REGION     0.005654\n",
      "NONLIVINGAPARTMENTS_MEDI       0.005635\n",
      "AMT_REQ_CREDIT_BUREAU_HOUR     0.005562\n",
      "SK_ID_CURR                     0.005188\n",
      "NONLIVINGAPARTMENTS_AVG        0.005033\n",
      "AMT_REQ_CREDIT_BUREAU_DAY      0.004461\n",
      "Name: TARGET, dtype: float64\n",
      "\n",
      "Top 30 negative correlations:\n",
      "LIVINGAPARTMENTS_MEDI        -0.021059\n",
      "LIVINGAPARTMENTS_AVG         -0.021752\n",
      "BASEMENTAREA_MEDI            -0.022629\n",
      "BASEMENTAREA_AVG             -0.023332\n",
      "HOUR_APPR_PROCESS_START      -0.025126\n",
      "FLAG_PHONE                   -0.028836\n",
      "FLAG_DOCUMENT_6              -0.028983\n",
      "APARTMENTS_MODE              -0.029412\n",
      "AMT_CREDIT                   -0.030034\n",
      "LIVINGAREA_MODE              -0.030413\n",
      "APARTMENTS_MEDI              -0.031027\n",
      "APARTMENTS_AVG               -0.031131\n",
      "LIVINGAREA_MEDI              -0.032471\n",
      "LIVINGAREA_AVG               -0.033037\n",
      "TOTALAREA_MODE               -0.033882\n",
      "ELEVATORS_MODE               -0.035531\n",
      "FLOORSMIN_MODE               -0.036393\n",
      "FLOORSMIN_MEDI               -0.036978\n",
      "ELEVATORS_MEDI               -0.037215\n",
      "FLOORSMIN_AVG                -0.037313\n",
      "ELEVATORS_AVG                -0.037594\n",
      "REGION_POPULATION_RELATIVE   -0.038446\n",
      "AMT_GOODS_PRICE              -0.039283\n",
      "DAYS_EMPLOYED                -0.043734\n",
      "FLOORSMAX_MODE               -0.044748\n",
      "FLOORSMAX_MEDI               -0.045474\n",
      "FLOORSMAX_AVG                -0.045861\n",
      "EXT_SOURCE_1                 -0.154590\n",
      "EXT_SOURCE_2                 -0.162015\n",
      "EXT_SOURCE_3                 -0.177798\n",
      "Name: TARGET, dtype: float64\n"
     ]
    }
   ],
   "source": [
    "# Filter out object type columns from the DataFrame\n",
    "numeric_df = df_t.select_dtypes(include=['int64', 'float64'])\n",
    "\n",
    "# Compute correlations with the TARGET column\n",
    "correlations = numeric_df.corr()['TARGET'].sort_values(ascending=False)\n",
    "\n",
    "# Select the top 30 positive correlations\n",
    "top_positive_correlations = correlations.head(30)\n",
    "\n",
    "# Select the top 30 negative correlations\n",
    "top_negative_correlations = correlations.tail(30)\n",
    "\n",
    "# Display the results\n",
    "print(\"Top 30 positive correlations:\")\n",
    "print(top_positive_correlations)\n",
    "print(\"\\nTop 30 negative correlations:\")\n",
    "print(top_negative_correlations)"
   ],
   "metadata": {
    "collapsed": false,
    "ExecuteTime": {
     "end_time": "2024-03-29T06:49:03.075236200Z",
     "start_time": "2024-03-29T06:49:00.510628400Z"
    }
   },
   "id": "2b7aa583a1c76908",
   "execution_count": 6
  },
  {
   "cell_type": "code",
   "outputs": [
    {
     "data": {
      "text/plain": "   SK_ID_CURR  TARGET NAME_CONTRACT_TYPE CODE_GENDER FLAG_OWN_CAR  \\\n0    100002.0     1.0         Cash loans           M            N   \n1    100003.0     0.0         Cash loans           F            N   \n2    100004.0     0.0    Revolving loans           M            Y   \n3    100006.0     0.0         Cash loans           F            N   \n4    100007.0     0.0         Cash loans           M            N   \n\n  FLAG_OWN_REALTY  CNT_CHILDREN  AMT_INCOME_TOTAL  AMT_CREDIT  AMT_ANNUITY  \\\n0               Y           0.0          202500.0    406597.5      24700.5   \n1               N           0.0          270000.0   1293502.5      35698.5   \n2               Y           0.0           67500.0    135000.0       6750.0   \n3               Y           0.0          135000.0    312682.5      29686.5   \n4               Y           0.0          121500.0    513000.0      21865.5   \n\n   ...  FLAG_DOCUMENT_18 FLAG_DOCUMENT_19 FLAG_DOCUMENT_20 FLAG_DOCUMENT_21  \\\n0  ...               0.0              0.0              0.0              0.0   \n1  ...               0.0              0.0              0.0              0.0   \n2  ...               0.0              0.0              0.0              0.0   \n3  ...               0.0              0.0              0.0              0.0   \n4  ...               0.0              0.0              0.0              0.0   \n\n  AMT_REQ_CREDIT_BUREAU_HOUR AMT_REQ_CREDIT_BUREAU_DAY  \\\n0                        0.0                       0.0   \n1                        0.0                       0.0   \n2                        0.0                       0.0   \n3                        NaN                       NaN   \n4                        0.0                       0.0   \n\n   AMT_REQ_CREDIT_BUREAU_WEEK  AMT_REQ_CREDIT_BUREAU_MON  \\\n0                         0.0                        0.0   \n1                         0.0                        0.0   \n2                         0.0                        0.0   \n3                         NaN                        NaN   \n4                         0.0                        0.0   \n\n   AMT_REQ_CREDIT_BUREAU_QRT  AMT_REQ_CREDIT_BUREAU_YEAR  \n0                        0.0                         1.0  \n1                        0.0                         0.0  \n2                        0.0                         0.0  \n3                        NaN                         NaN  \n4                        0.0                         0.0  \n\n[5 rows x 122 columns]",
      "text/html": "<div>\n<style scoped>\n    .dataframe tbody tr th:only-of-type {\n        vertical-align: middle;\n    }\n\n    .dataframe tbody tr th {\n        vertical-align: top;\n    }\n\n    .dataframe thead th {\n        text-align: right;\n    }\n</style>\n<table border=\"1\" class=\"dataframe\">\n  <thead>\n    <tr style=\"text-align: right;\">\n      <th></th>\n      <th>SK_ID_CURR</th>\n      <th>TARGET</th>\n      <th>NAME_CONTRACT_TYPE</th>\n      <th>CODE_GENDER</th>\n      <th>FLAG_OWN_CAR</th>\n      <th>FLAG_OWN_REALTY</th>\n      <th>CNT_CHILDREN</th>\n      <th>AMT_INCOME_TOTAL</th>\n      <th>AMT_CREDIT</th>\n      <th>AMT_ANNUITY</th>\n      <th>...</th>\n      <th>FLAG_DOCUMENT_18</th>\n      <th>FLAG_DOCUMENT_19</th>\n      <th>FLAG_DOCUMENT_20</th>\n      <th>FLAG_DOCUMENT_21</th>\n      <th>AMT_REQ_CREDIT_BUREAU_HOUR</th>\n      <th>AMT_REQ_CREDIT_BUREAU_DAY</th>\n      <th>AMT_REQ_CREDIT_BUREAU_WEEK</th>\n      <th>AMT_REQ_CREDIT_BUREAU_MON</th>\n      <th>AMT_REQ_CREDIT_BUREAU_QRT</th>\n      <th>AMT_REQ_CREDIT_BUREAU_YEAR</th>\n    </tr>\n  </thead>\n  <tbody>\n    <tr>\n      <th>0</th>\n      <td>100002.0</td>\n      <td>1.0</td>\n      <td>Cash loans</td>\n      <td>M</td>\n      <td>N</td>\n      <td>Y</td>\n      <td>0.0</td>\n      <td>202500.0</td>\n      <td>406597.5</td>\n      <td>24700.5</td>\n      <td>...</td>\n      <td>0.0</td>\n      <td>0.0</td>\n      <td>0.0</td>\n      <td>0.0</td>\n      <td>0.0</td>\n      <td>0.0</td>\n      <td>0.0</td>\n      <td>0.0</td>\n      <td>0.0</td>\n      <td>1.0</td>\n    </tr>\n    <tr>\n      <th>1</th>\n      <td>100003.0</td>\n      <td>0.0</td>\n      <td>Cash loans</td>\n      <td>F</td>\n      <td>N</td>\n      <td>N</td>\n      <td>0.0</td>\n      <td>270000.0</td>\n      <td>1293502.5</td>\n      <td>35698.5</td>\n      <td>...</td>\n      <td>0.0</td>\n      <td>0.0</td>\n      <td>0.0</td>\n      <td>0.0</td>\n      <td>0.0</td>\n      <td>0.0</td>\n      <td>0.0</td>\n      <td>0.0</td>\n      <td>0.0</td>\n      <td>0.0</td>\n    </tr>\n    <tr>\n      <th>2</th>\n      <td>100004.0</td>\n      <td>0.0</td>\n      <td>Revolving loans</td>\n      <td>M</td>\n      <td>Y</td>\n      <td>Y</td>\n      <td>0.0</td>\n      <td>67500.0</td>\n      <td>135000.0</td>\n      <td>6750.0</td>\n      <td>...</td>\n      <td>0.0</td>\n      <td>0.0</td>\n      <td>0.0</td>\n      <td>0.0</td>\n      <td>0.0</td>\n      <td>0.0</td>\n      <td>0.0</td>\n      <td>0.0</td>\n      <td>0.0</td>\n      <td>0.0</td>\n    </tr>\n    <tr>\n      <th>3</th>\n      <td>100006.0</td>\n      <td>0.0</td>\n      <td>Cash loans</td>\n      <td>F</td>\n      <td>N</td>\n      <td>Y</td>\n      <td>0.0</td>\n      <td>135000.0</td>\n      <td>312682.5</td>\n      <td>29686.5</td>\n      <td>...</td>\n      <td>0.0</td>\n      <td>0.0</td>\n      <td>0.0</td>\n      <td>0.0</td>\n      <td>NaN</td>\n      <td>NaN</td>\n      <td>NaN</td>\n      <td>NaN</td>\n      <td>NaN</td>\n      <td>NaN</td>\n    </tr>\n    <tr>\n      <th>4</th>\n      <td>100007.0</td>\n      <td>0.0</td>\n      <td>Cash loans</td>\n      <td>M</td>\n      <td>N</td>\n      <td>Y</td>\n      <td>0.0</td>\n      <td>121500.0</td>\n      <td>513000.0</td>\n      <td>21865.5</td>\n      <td>...</td>\n      <td>0.0</td>\n      <td>0.0</td>\n      <td>0.0</td>\n      <td>0.0</td>\n      <td>0.0</td>\n      <td>0.0</td>\n      <td>0.0</td>\n      <td>0.0</td>\n      <td>0.0</td>\n      <td>0.0</td>\n    </tr>\n  </tbody>\n</table>\n<p>5 rows × 122 columns</p>\n</div>"
     },
     "execution_count": 7,
     "metadata": {},
     "output_type": "execute_result"
    }
   ],
   "source": [
    "df_t.head()"
   ],
   "metadata": {
    "collapsed": false,
    "ExecuteTime": {
     "end_time": "2024-03-29T06:49:03.091754100Z",
     "start_time": "2024-03-29T06:49:03.072234800Z"
    }
   },
   "id": "a2dd53b176d95c9f",
   "execution_count": 7
  },
  {
   "cell_type": "markdown",
   "source": [
    "## Combine Train and Test"
   ],
   "metadata": {
    "collapsed": false
   },
   "id": "f8a715cff37c5fd2"
  },
  {
   "cell_type": "code",
   "outputs": [],
   "source": [
    "# Add a new column to indicate the source dataset\n",
    "df_t['is_test'] = 0  # For train data, set to 0\n",
    "df_e['is_test'] = 1   # For test data, set to 1\n",
    "\n",
    "# Concatenate the train and test datasets\n",
    "df_combined = pd.concat([df_t, df_e], ignore_index=True)"
   ],
   "metadata": {
    "collapsed": false,
    "ExecuteTime": {
     "end_time": "2024-03-29T06:49:03.158085300Z",
     "start_time": "2024-03-29T06:49:03.088752700Z"
    }
   },
   "id": "add0d8c6d9940fb1",
   "execution_count": 8
  },
  {
   "cell_type": "code",
   "outputs": [],
   "source": [
    "# # Read the data into a DataFrame\n",
    "# # Categorize variables with fewer than 10 unique values and not already integers\n",
    "# for col in df_combined.columns:\n",
    "#     if df_combined[col].dtype != 'float64' and df_combined[col].nunique() < 10:\n",
    "#         df_combined[col] = df_combined[col].astype('category')"
   ],
   "metadata": {
    "collapsed": false,
    "ExecuteTime": {
     "end_time": "2024-03-29T06:49:03.159084400Z",
     "start_time": "2024-03-29T06:49:03.156575900Z"
    }
   },
   "id": "b68c208db8cf8b97",
   "execution_count": 9
  },
  {
   "cell_type": "markdown",
   "source": [
    "## Display numeric NA's"
   ],
   "metadata": {
    "collapsed": false
   },
   "id": "8be55aac432f19c5"
  },
  {
   "cell_type": "code",
   "outputs": [],
   "source": [
    "all_Xdata_na = (df_combined.isnull().sum() / len(df_combined)) * 100\n",
    "all_Xdata_na = all_Xdata_na.drop(all_Xdata_na[all_Xdata_na == 0].index).sort_values(ascending=False)[:300]\n",
    "missing_data = pd.DataFrame({'Missing Data Percent' :all_Xdata_na})"
   ],
   "metadata": {
    "collapsed": false,
    "ExecuteTime": {
     "end_time": "2024-03-29T06:49:03.283118200Z",
     "start_time": "2024-03-29T06:49:03.159084400Z"
    }
   },
   "id": "882e9c41d5f9c270",
   "execution_count": 10
  },
  {
   "cell_type": "code",
   "outputs": [
    {
     "data": {
      "text/plain": "                              Missing Data Percent\nCOMMONAREA_AVG                           85.884830\nCOMMONAREA_MODE                          85.884830\nCOMMONAREA_MEDI                          85.884830\nNONLIVINGAPARTMENTS_AVG                  85.695078\nNONLIVINGAPARTMENTS_MODE                 85.695078\nNONLIVINGAPARTMENTS_MEDI                 85.695078\nLIVINGAPARTMENTS_AVG                     85.199927\nLIVINGAPARTMENTS_MODE                    85.199927\nLIVINGAPARTMENTS_MEDI                    85.199927\nFONDKAPREMONT_MODE                       85.189541\nFLOORSMIN_MEDI                           84.930176\nFLOORSMIN_AVG                            84.930176\nFLOORSMIN_MODE                           84.930176\nOWN_CAR_AGE                              84.340150\nYEARS_BUILD_AVG                          84.308992\nYEARS_BUILD_MEDI                         84.308992\nYEARS_BUILD_MODE                         84.308992\nLANDAREA_MEDI                            81.011074\nLANDAREA_MODE                            81.011074\nLANDAREA_AVG                             81.011074\nBASEMENTAREA_AVG                         80.556062\nBASEMENTAREA_MODE                        80.556062\nBASEMENTAREA_MEDI                        80.556062\nNONLIVINGAREA_MODE                       79.044785\nNONLIVINGAREA_MEDI                       79.044785\nNONLIVINGAREA_AVG                        79.044785\nELEVATORS_AVG                            78.197078\nELEVATORS_MODE                           78.197078\nELEVATORS_MEDI                           78.197078\nEXT_SOURCE_1                             77.856030\nWALLSMATERIAL_MODE                       77.015340\nAPARTMENTS_MODE                          76.988674\nAPARTMENTS_AVG                           76.988674\nAPARTMENTS_MEDI                          76.988674\nENTRANCES_MODE                           76.768887\nENTRANCES_AVG                            76.768887\nENTRANCES_MEDI                           76.768887\nHOUSETYPE_MODE                           76.728748\nLIVINGAREA_AVG                           76.720327\nLIVINGAREA_MODE                          76.720327\nLIVINGAREA_MEDI                          76.720327\nFLOORSMAX_MODE                           76.505874\nFLOORSMAX_MEDI                           76.505874\nFLOORSMAX_AVG                            76.505874\nYEARS_BEGINEXPLUATATION_MODE             76.055354\nYEARS_BEGINEXPLUATATION_MEDI             76.055354\nYEARS_BEGINEXPLUATATION_AVG              76.055354\nTOTALAREA_MODE                           75.833041\nEMERGENCYSTATE_MODE                      75.428836\nOCCUPATION_TYPE                          68.317638\nTARGET                                   67.407896\nEXT_SOURCE_3                             62.622840\nAMT_REQ_CREDIT_BUREAU_WEEK               59.803512\nAMT_REQ_CREDIT_BUREAU_DAY                59.803512\nAMT_REQ_CREDIT_BUREAU_MON                59.803512\nAMT_REQ_CREDIT_BUREAU_QRT                59.803512\nAMT_REQ_CREDIT_BUREAU_HOUR               59.803512\nAMT_REQ_CREDIT_BUREAU_YEAR               59.803512\nNAME_TYPE_SUITE                          54.115451\nDEF_30_CNT_SOCIAL_CIRCLE                 53.842613\nOBS_60_CNT_SOCIAL_CIRCLE                 53.842613\nOBS_30_CNT_SOCIAL_CIRCLE                 53.842613\nDEF_60_CNT_SOCIAL_CIRCLE                 53.842613\nEXT_SOURCE_2                             53.798262\nAMT_GOODS_PRICE                          53.751667\nAMT_ANNUITY                              53.734263\nDAYS_LAST_PHONE_CHANGE                   53.725842\nCNT_FAM_MEMBERS                          53.725842\nCNT_CHILDREN                             53.725562\nFLAG_DOCUMENT_8                          53.725562\nNAME_CONTRACT_TYPE                       53.725562\nCODE_GENDER                              53.725562\nFLAG_OWN_CAR                             53.725562\nFLAG_DOCUMENT_2                          53.725562\nFLAG_DOCUMENT_3                          53.725562\nFLAG_DOCUMENT_4                          53.725562\nFLAG_DOCUMENT_5                          53.725562\nFLAG_DOCUMENT_6                          53.725562\nFLAG_DOCUMENT_7                          53.725562\nFLAG_DOCUMENT_9                          53.725562\nFLAG_DOCUMENT_21                         53.725562\nFLAG_DOCUMENT_10                         53.725562\nFLAG_DOCUMENT_11                         53.725562\nFLAG_OWN_REALTY                          53.725562\nFLAG_DOCUMENT_13                         53.725562\nFLAG_DOCUMENT_14                         53.725562\nFLAG_DOCUMENT_15                         53.725562\nFLAG_DOCUMENT_16                         53.725562\nFLAG_DOCUMENT_17                         53.725562\nFLAG_DOCUMENT_18                         53.725562\nFLAG_DOCUMENT_19                         53.725562\nFLAG_DOCUMENT_20                         53.725562\nFLAG_DOCUMENT_12                         53.725562\nAMT_INCOME_TOTAL                         53.725562\nORGANIZATION_TYPE                        53.725562\nAMT_CREDIT                               53.725562\nLIVE_CITY_NOT_WORK_CITY                  53.725562\nREG_CITY_NOT_WORK_CITY                   53.725562\nREG_CITY_NOT_LIVE_CITY                   53.725562\nLIVE_REGION_NOT_WORK_REGION              53.725562\nREG_REGION_NOT_WORK_REGION               53.725562\nREG_REGION_NOT_LIVE_REGION               53.725562\nHOUR_APPR_PROCESS_START                  53.725562\nWEEKDAY_APPR_PROCESS_START               53.725562\nREGION_RATING_CLIENT_W_CITY              53.725562\nREGION_RATING_CLIENT                     53.725562\nFLAG_EMAIL                               53.725562\nFLAG_PHONE                               53.725562\nFLAG_CONT_MOBILE                         53.725562\nFLAG_WORK_PHONE                          53.725562\nFLAG_EMP_PHONE                           53.725562\nFLAG_MOBIL                               53.725562\nDAYS_ID_PUBLISH                          53.725562\nDAYS_REGISTRATION                        53.725562\nDAYS_EMPLOYED                            53.725562\nDAYS_BIRTH                               53.725562\nREGION_POPULATION_RELATIVE               53.725562\nNAME_HOUSING_TYPE                        53.725562\nNAME_FAMILY_STATUS                       53.725562\nNAME_EDUCATION_TYPE                      53.725562\nNAME_INCOME_TYPE                         53.725562\nSK_ID_CURR                               53.725562",
      "text/html": "<div>\n<style scoped>\n    .dataframe tbody tr th:only-of-type {\n        vertical-align: middle;\n    }\n\n    .dataframe tbody tr th {\n        vertical-align: top;\n    }\n\n    .dataframe thead th {\n        text-align: right;\n    }\n</style>\n<table border=\"1\" class=\"dataframe\">\n  <thead>\n    <tr style=\"text-align: right;\">\n      <th></th>\n      <th>Missing Data Percent</th>\n    </tr>\n  </thead>\n  <tbody>\n    <tr>\n      <th>COMMONAREA_AVG</th>\n      <td>85.884830</td>\n    </tr>\n    <tr>\n      <th>COMMONAREA_MODE</th>\n      <td>85.884830</td>\n    </tr>\n    <tr>\n      <th>COMMONAREA_MEDI</th>\n      <td>85.884830</td>\n    </tr>\n    <tr>\n      <th>NONLIVINGAPARTMENTS_AVG</th>\n      <td>85.695078</td>\n    </tr>\n    <tr>\n      <th>NONLIVINGAPARTMENTS_MODE</th>\n      <td>85.695078</td>\n    </tr>\n    <tr>\n      <th>NONLIVINGAPARTMENTS_MEDI</th>\n      <td>85.695078</td>\n    </tr>\n    <tr>\n      <th>LIVINGAPARTMENTS_AVG</th>\n      <td>85.199927</td>\n    </tr>\n    <tr>\n      <th>LIVINGAPARTMENTS_MODE</th>\n      <td>85.199927</td>\n    </tr>\n    <tr>\n      <th>LIVINGAPARTMENTS_MEDI</th>\n      <td>85.199927</td>\n    </tr>\n    <tr>\n      <th>FONDKAPREMONT_MODE</th>\n      <td>85.189541</td>\n    </tr>\n    <tr>\n      <th>FLOORSMIN_MEDI</th>\n      <td>84.930176</td>\n    </tr>\n    <tr>\n      <th>FLOORSMIN_AVG</th>\n      <td>84.930176</td>\n    </tr>\n    <tr>\n      <th>FLOORSMIN_MODE</th>\n      <td>84.930176</td>\n    </tr>\n    <tr>\n      <th>OWN_CAR_AGE</th>\n      <td>84.340150</td>\n    </tr>\n    <tr>\n      <th>YEARS_BUILD_AVG</th>\n      <td>84.308992</td>\n    </tr>\n    <tr>\n      <th>YEARS_BUILD_MEDI</th>\n      <td>84.308992</td>\n    </tr>\n    <tr>\n      <th>YEARS_BUILD_MODE</th>\n      <td>84.308992</td>\n    </tr>\n    <tr>\n      <th>LANDAREA_MEDI</th>\n      <td>81.011074</td>\n    </tr>\n    <tr>\n      <th>LANDAREA_MODE</th>\n      <td>81.011074</td>\n    </tr>\n    <tr>\n      <th>LANDAREA_AVG</th>\n      <td>81.011074</td>\n    </tr>\n    <tr>\n      <th>BASEMENTAREA_AVG</th>\n      <td>80.556062</td>\n    </tr>\n    <tr>\n      <th>BASEMENTAREA_MODE</th>\n      <td>80.556062</td>\n    </tr>\n    <tr>\n      <th>BASEMENTAREA_MEDI</th>\n      <td>80.556062</td>\n    </tr>\n    <tr>\n      <th>NONLIVINGAREA_MODE</th>\n      <td>79.044785</td>\n    </tr>\n    <tr>\n      <th>NONLIVINGAREA_MEDI</th>\n      <td>79.044785</td>\n    </tr>\n    <tr>\n      <th>NONLIVINGAREA_AVG</th>\n      <td>79.044785</td>\n    </tr>\n    <tr>\n      <th>ELEVATORS_AVG</th>\n      <td>78.197078</td>\n    </tr>\n    <tr>\n      <th>ELEVATORS_MODE</th>\n      <td>78.197078</td>\n    </tr>\n    <tr>\n      <th>ELEVATORS_MEDI</th>\n      <td>78.197078</td>\n    </tr>\n    <tr>\n      <th>EXT_SOURCE_1</th>\n      <td>77.856030</td>\n    </tr>\n    <tr>\n      <th>WALLSMATERIAL_MODE</th>\n      <td>77.015340</td>\n    </tr>\n    <tr>\n      <th>APARTMENTS_MODE</th>\n      <td>76.988674</td>\n    </tr>\n    <tr>\n      <th>APARTMENTS_AVG</th>\n      <td>76.988674</td>\n    </tr>\n    <tr>\n      <th>APARTMENTS_MEDI</th>\n      <td>76.988674</td>\n    </tr>\n    <tr>\n      <th>ENTRANCES_MODE</th>\n      <td>76.768887</td>\n    </tr>\n    <tr>\n      <th>ENTRANCES_AVG</th>\n      <td>76.768887</td>\n    </tr>\n    <tr>\n      <th>ENTRANCES_MEDI</th>\n      <td>76.768887</td>\n    </tr>\n    <tr>\n      <th>HOUSETYPE_MODE</th>\n      <td>76.728748</td>\n    </tr>\n    <tr>\n      <th>LIVINGAREA_AVG</th>\n      <td>76.720327</td>\n    </tr>\n    <tr>\n      <th>LIVINGAREA_MODE</th>\n      <td>76.720327</td>\n    </tr>\n    <tr>\n      <th>LIVINGAREA_MEDI</th>\n      <td>76.720327</td>\n    </tr>\n    <tr>\n      <th>FLOORSMAX_MODE</th>\n      <td>76.505874</td>\n    </tr>\n    <tr>\n      <th>FLOORSMAX_MEDI</th>\n      <td>76.505874</td>\n    </tr>\n    <tr>\n      <th>FLOORSMAX_AVG</th>\n      <td>76.505874</td>\n    </tr>\n    <tr>\n      <th>YEARS_BEGINEXPLUATATION_MODE</th>\n      <td>76.055354</td>\n    </tr>\n    <tr>\n      <th>YEARS_BEGINEXPLUATATION_MEDI</th>\n      <td>76.055354</td>\n    </tr>\n    <tr>\n      <th>YEARS_BEGINEXPLUATATION_AVG</th>\n      <td>76.055354</td>\n    </tr>\n    <tr>\n      <th>TOTALAREA_MODE</th>\n      <td>75.833041</td>\n    </tr>\n    <tr>\n      <th>EMERGENCYSTATE_MODE</th>\n      <td>75.428836</td>\n    </tr>\n    <tr>\n      <th>OCCUPATION_TYPE</th>\n      <td>68.317638</td>\n    </tr>\n    <tr>\n      <th>TARGET</th>\n      <td>67.407896</td>\n    </tr>\n    <tr>\n      <th>EXT_SOURCE_3</th>\n      <td>62.622840</td>\n    </tr>\n    <tr>\n      <th>AMT_REQ_CREDIT_BUREAU_WEEK</th>\n      <td>59.803512</td>\n    </tr>\n    <tr>\n      <th>AMT_REQ_CREDIT_BUREAU_DAY</th>\n      <td>59.803512</td>\n    </tr>\n    <tr>\n      <th>AMT_REQ_CREDIT_BUREAU_MON</th>\n      <td>59.803512</td>\n    </tr>\n    <tr>\n      <th>AMT_REQ_CREDIT_BUREAU_QRT</th>\n      <td>59.803512</td>\n    </tr>\n    <tr>\n      <th>AMT_REQ_CREDIT_BUREAU_HOUR</th>\n      <td>59.803512</td>\n    </tr>\n    <tr>\n      <th>AMT_REQ_CREDIT_BUREAU_YEAR</th>\n      <td>59.803512</td>\n    </tr>\n    <tr>\n      <th>NAME_TYPE_SUITE</th>\n      <td>54.115451</td>\n    </tr>\n    <tr>\n      <th>DEF_30_CNT_SOCIAL_CIRCLE</th>\n      <td>53.842613</td>\n    </tr>\n    <tr>\n      <th>OBS_60_CNT_SOCIAL_CIRCLE</th>\n      <td>53.842613</td>\n    </tr>\n    <tr>\n      <th>OBS_30_CNT_SOCIAL_CIRCLE</th>\n      <td>53.842613</td>\n    </tr>\n    <tr>\n      <th>DEF_60_CNT_SOCIAL_CIRCLE</th>\n      <td>53.842613</td>\n    </tr>\n    <tr>\n      <th>EXT_SOURCE_2</th>\n      <td>53.798262</td>\n    </tr>\n    <tr>\n      <th>AMT_GOODS_PRICE</th>\n      <td>53.751667</td>\n    </tr>\n    <tr>\n      <th>AMT_ANNUITY</th>\n      <td>53.734263</td>\n    </tr>\n    <tr>\n      <th>DAYS_LAST_PHONE_CHANGE</th>\n      <td>53.725842</td>\n    </tr>\n    <tr>\n      <th>CNT_FAM_MEMBERS</th>\n      <td>53.725842</td>\n    </tr>\n    <tr>\n      <th>CNT_CHILDREN</th>\n      <td>53.725562</td>\n    </tr>\n    <tr>\n      <th>FLAG_DOCUMENT_8</th>\n      <td>53.725562</td>\n    </tr>\n    <tr>\n      <th>NAME_CONTRACT_TYPE</th>\n      <td>53.725562</td>\n    </tr>\n    <tr>\n      <th>CODE_GENDER</th>\n      <td>53.725562</td>\n    </tr>\n    <tr>\n      <th>FLAG_OWN_CAR</th>\n      <td>53.725562</td>\n    </tr>\n    <tr>\n      <th>FLAG_DOCUMENT_2</th>\n      <td>53.725562</td>\n    </tr>\n    <tr>\n      <th>FLAG_DOCUMENT_3</th>\n      <td>53.725562</td>\n    </tr>\n    <tr>\n      <th>FLAG_DOCUMENT_4</th>\n      <td>53.725562</td>\n    </tr>\n    <tr>\n      <th>FLAG_DOCUMENT_5</th>\n      <td>53.725562</td>\n    </tr>\n    <tr>\n      <th>FLAG_DOCUMENT_6</th>\n      <td>53.725562</td>\n    </tr>\n    <tr>\n      <th>FLAG_DOCUMENT_7</th>\n      <td>53.725562</td>\n    </tr>\n    <tr>\n      <th>FLAG_DOCUMENT_9</th>\n      <td>53.725562</td>\n    </tr>\n    <tr>\n      <th>FLAG_DOCUMENT_21</th>\n      <td>53.725562</td>\n    </tr>\n    <tr>\n      <th>FLAG_DOCUMENT_10</th>\n      <td>53.725562</td>\n    </tr>\n    <tr>\n      <th>FLAG_DOCUMENT_11</th>\n      <td>53.725562</td>\n    </tr>\n    <tr>\n      <th>FLAG_OWN_REALTY</th>\n      <td>53.725562</td>\n    </tr>\n    <tr>\n      <th>FLAG_DOCUMENT_13</th>\n      <td>53.725562</td>\n    </tr>\n    <tr>\n      <th>FLAG_DOCUMENT_14</th>\n      <td>53.725562</td>\n    </tr>\n    <tr>\n      <th>FLAG_DOCUMENT_15</th>\n      <td>53.725562</td>\n    </tr>\n    <tr>\n      <th>FLAG_DOCUMENT_16</th>\n      <td>53.725562</td>\n    </tr>\n    <tr>\n      <th>FLAG_DOCUMENT_17</th>\n      <td>53.725562</td>\n    </tr>\n    <tr>\n      <th>FLAG_DOCUMENT_18</th>\n      <td>53.725562</td>\n    </tr>\n    <tr>\n      <th>FLAG_DOCUMENT_19</th>\n      <td>53.725562</td>\n    </tr>\n    <tr>\n      <th>FLAG_DOCUMENT_20</th>\n      <td>53.725562</td>\n    </tr>\n    <tr>\n      <th>FLAG_DOCUMENT_12</th>\n      <td>53.725562</td>\n    </tr>\n    <tr>\n      <th>AMT_INCOME_TOTAL</th>\n      <td>53.725562</td>\n    </tr>\n    <tr>\n      <th>ORGANIZATION_TYPE</th>\n      <td>53.725562</td>\n    </tr>\n    <tr>\n      <th>AMT_CREDIT</th>\n      <td>53.725562</td>\n    </tr>\n    <tr>\n      <th>LIVE_CITY_NOT_WORK_CITY</th>\n      <td>53.725562</td>\n    </tr>\n    <tr>\n      <th>REG_CITY_NOT_WORK_CITY</th>\n      <td>53.725562</td>\n    </tr>\n    <tr>\n      <th>REG_CITY_NOT_LIVE_CITY</th>\n      <td>53.725562</td>\n    </tr>\n    <tr>\n      <th>LIVE_REGION_NOT_WORK_REGION</th>\n      <td>53.725562</td>\n    </tr>\n    <tr>\n      <th>REG_REGION_NOT_WORK_REGION</th>\n      <td>53.725562</td>\n    </tr>\n    <tr>\n      <th>REG_REGION_NOT_LIVE_REGION</th>\n      <td>53.725562</td>\n    </tr>\n    <tr>\n      <th>HOUR_APPR_PROCESS_START</th>\n      <td>53.725562</td>\n    </tr>\n    <tr>\n      <th>WEEKDAY_APPR_PROCESS_START</th>\n      <td>53.725562</td>\n    </tr>\n    <tr>\n      <th>REGION_RATING_CLIENT_W_CITY</th>\n      <td>53.725562</td>\n    </tr>\n    <tr>\n      <th>REGION_RATING_CLIENT</th>\n      <td>53.725562</td>\n    </tr>\n    <tr>\n      <th>FLAG_EMAIL</th>\n      <td>53.725562</td>\n    </tr>\n    <tr>\n      <th>FLAG_PHONE</th>\n      <td>53.725562</td>\n    </tr>\n    <tr>\n      <th>FLAG_CONT_MOBILE</th>\n      <td>53.725562</td>\n    </tr>\n    <tr>\n      <th>FLAG_WORK_PHONE</th>\n      <td>53.725562</td>\n    </tr>\n    <tr>\n      <th>FLAG_EMP_PHONE</th>\n      <td>53.725562</td>\n    </tr>\n    <tr>\n      <th>FLAG_MOBIL</th>\n      <td>53.725562</td>\n    </tr>\n    <tr>\n      <th>DAYS_ID_PUBLISH</th>\n      <td>53.725562</td>\n    </tr>\n    <tr>\n      <th>DAYS_REGISTRATION</th>\n      <td>53.725562</td>\n    </tr>\n    <tr>\n      <th>DAYS_EMPLOYED</th>\n      <td>53.725562</td>\n    </tr>\n    <tr>\n      <th>DAYS_BIRTH</th>\n      <td>53.725562</td>\n    </tr>\n    <tr>\n      <th>REGION_POPULATION_RELATIVE</th>\n      <td>53.725562</td>\n    </tr>\n    <tr>\n      <th>NAME_HOUSING_TYPE</th>\n      <td>53.725562</td>\n    </tr>\n    <tr>\n      <th>NAME_FAMILY_STATUS</th>\n      <td>53.725562</td>\n    </tr>\n    <tr>\n      <th>NAME_EDUCATION_TYPE</th>\n      <td>53.725562</td>\n    </tr>\n    <tr>\n      <th>NAME_INCOME_TYPE</th>\n      <td>53.725562</td>\n    </tr>\n    <tr>\n      <th>SK_ID_CURR</th>\n      <td>53.725562</td>\n    </tr>\n  </tbody>\n</table>\n</div>"
     },
     "execution_count": 11,
     "metadata": {},
     "output_type": "execute_result"
    }
   ],
   "source": [
    "pd.set_option('display.max_rows', None)\n",
    "missing_data"
   ],
   "metadata": {
    "collapsed": false,
    "ExecuteTime": {
     "end_time": "2024-03-29T06:49:03.296555800Z",
     "start_time": "2024-03-29T06:49:03.283118200Z"
    }
   },
   "id": "ebc6593becffb34e",
   "execution_count": 11
  },
  {
   "cell_type": "markdown",
   "source": [
    "## Missing Numeric data to convert to median"
   ],
   "metadata": {
    "collapsed": false
   },
   "id": "6f296495429d7c9d"
  },
  {
   "cell_type": "code",
   "outputs": [],
   "source": [
    "for col in df_combined.columns:\n",
    "    # Check if the column is of float64 data type and has missing or NA values\n",
    "    if df_combined[col].dtype == 'float64' and df_combined[col].isnull().any():\n",
    "        # Calculate the median of the column\n",
    "        median_value = df_combined[col].median()\n",
    "        # Fill missing values with the median\n",
    "        df_combined[col].fillna(median_value, inplace=True)"
   ],
   "metadata": {
    "collapsed": false,
    "ExecuteTime": {
     "end_time": "2024-03-29T06:49:03.751468900Z",
     "start_time": "2024-03-29T06:49:03.291556500Z"
    }
   },
   "id": "96180c3a7016afb4",
   "execution_count": 12
  },
  {
   "cell_type": "markdown",
   "source": [
    "## What missing data remains?"
   ],
   "metadata": {
    "collapsed": false
   },
   "id": "8f1c02a79e5b3625"
  },
  {
   "cell_type": "code",
   "outputs": [
    {
     "name": "stdout",
     "output_type": "stream",
     "text": [
      "['NAME_CONTRACT_TYPE', 'CODE_GENDER', 'FLAG_OWN_CAR', 'FLAG_OWN_REALTY', 'NAME_TYPE_SUITE', 'NAME_INCOME_TYPE', 'NAME_EDUCATION_TYPE', 'NAME_FAMILY_STATUS', 'NAME_HOUSING_TYPE', 'OCCUPATION_TYPE', 'WEEKDAY_APPR_PROCESS_START', 'ORGANIZATION_TYPE', 'FONDKAPREMONT_MODE', 'HOUSETYPE_MODE', 'WALLSMATERIAL_MODE', 'EMERGENCYSTATE_MODE']\n"
     ]
    }
   ],
   "source": [
    "columns_with_missing_data = df_combined.columns[df_combined.isnull().any()].tolist()\n",
    "\n",
    "# Display the columns with missing data\n",
    "print(columns_with_missing_data)"
   ],
   "metadata": {
    "collapsed": false,
    "ExecuteTime": {
     "end_time": "2024-03-29T06:49:03.852184100Z",
     "start_time": "2024-03-29T06:49:03.751468900Z"
    }
   },
   "id": "eb7b7c25bfacaf3e",
   "execution_count": 13
  },
  {
   "cell_type": "markdown",
   "source": [
    "## Object missing data"
   ],
   "metadata": {
    "collapsed": false
   },
   "id": "8d240572be3ec556"
  },
  {
   "cell_type": "code",
   "outputs": [
    {
     "data": {
      "text/plain": "  NAME_CONTRACT_TYPE CODE_GENDER FLAG_OWN_CAR FLAG_OWN_REALTY NAME_TYPE_SUITE  \\\n0         Cash loans           M            N               Y   Unaccompanied   \n1         Cash loans           F            N               N          Family   \n2    Revolving loans           M            Y               Y   Unaccompanied   \n3         Cash loans           F            N               Y   Unaccompanied   \n4         Cash loans           M            N               Y   Unaccompanied   \n\n  NAME_INCOME_TYPE            NAME_EDUCATION_TYPE    NAME_FAMILY_STATUS  \\\n0          Working  Secondary / secondary special  Single / not married   \n1    State servant               Higher education               Married   \n2          Working  Secondary / secondary special  Single / not married   \n3          Working  Secondary / secondary special        Civil marriage   \n4          Working  Secondary / secondary special  Single / not married   \n\n   NAME_HOUSING_TYPE OCCUPATION_TYPE WEEKDAY_APPR_PROCESS_START  \\\n0  House / apartment        Laborers                  WEDNESDAY   \n1  House / apartment      Core staff                     MONDAY   \n2  House / apartment        Laborers                     MONDAY   \n3  House / apartment        Laborers                  WEDNESDAY   \n4  House / apartment      Core staff                   THURSDAY   \n\n        ORGANIZATION_TYPE FONDKAPREMONT_MODE  HOUSETYPE_MODE  \\\n0  Business Entity Type 3   reg oper account  block of flats   \n1                  School   reg oper account  block of flats   \n2              Government                NaN             NaN   \n3  Business Entity Type 3                NaN             NaN   \n4                Religion                NaN             NaN   \n\n  WALLSMATERIAL_MODE EMERGENCYSTATE_MODE  \n0       Stone, brick                  No  \n1              Block                  No  \n2                NaN                 NaN  \n3                NaN                 NaN  \n4                NaN                 NaN  ",
      "text/html": "<div>\n<style scoped>\n    .dataframe tbody tr th:only-of-type {\n        vertical-align: middle;\n    }\n\n    .dataframe tbody tr th {\n        vertical-align: top;\n    }\n\n    .dataframe thead th {\n        text-align: right;\n    }\n</style>\n<table border=\"1\" class=\"dataframe\">\n  <thead>\n    <tr style=\"text-align: right;\">\n      <th></th>\n      <th>NAME_CONTRACT_TYPE</th>\n      <th>CODE_GENDER</th>\n      <th>FLAG_OWN_CAR</th>\n      <th>FLAG_OWN_REALTY</th>\n      <th>NAME_TYPE_SUITE</th>\n      <th>NAME_INCOME_TYPE</th>\n      <th>NAME_EDUCATION_TYPE</th>\n      <th>NAME_FAMILY_STATUS</th>\n      <th>NAME_HOUSING_TYPE</th>\n      <th>OCCUPATION_TYPE</th>\n      <th>WEEKDAY_APPR_PROCESS_START</th>\n      <th>ORGANIZATION_TYPE</th>\n      <th>FONDKAPREMONT_MODE</th>\n      <th>HOUSETYPE_MODE</th>\n      <th>WALLSMATERIAL_MODE</th>\n      <th>EMERGENCYSTATE_MODE</th>\n    </tr>\n  </thead>\n  <tbody>\n    <tr>\n      <th>0</th>\n      <td>Cash loans</td>\n      <td>M</td>\n      <td>N</td>\n      <td>Y</td>\n      <td>Unaccompanied</td>\n      <td>Working</td>\n      <td>Secondary / secondary special</td>\n      <td>Single / not married</td>\n      <td>House / apartment</td>\n      <td>Laborers</td>\n      <td>WEDNESDAY</td>\n      <td>Business Entity Type 3</td>\n      <td>reg oper account</td>\n      <td>block of flats</td>\n      <td>Stone, brick</td>\n      <td>No</td>\n    </tr>\n    <tr>\n      <th>1</th>\n      <td>Cash loans</td>\n      <td>F</td>\n      <td>N</td>\n      <td>N</td>\n      <td>Family</td>\n      <td>State servant</td>\n      <td>Higher education</td>\n      <td>Married</td>\n      <td>House / apartment</td>\n      <td>Core staff</td>\n      <td>MONDAY</td>\n      <td>School</td>\n      <td>reg oper account</td>\n      <td>block of flats</td>\n      <td>Block</td>\n      <td>No</td>\n    </tr>\n    <tr>\n      <th>2</th>\n      <td>Revolving loans</td>\n      <td>M</td>\n      <td>Y</td>\n      <td>Y</td>\n      <td>Unaccompanied</td>\n      <td>Working</td>\n      <td>Secondary / secondary special</td>\n      <td>Single / not married</td>\n      <td>House / apartment</td>\n      <td>Laborers</td>\n      <td>MONDAY</td>\n      <td>Government</td>\n      <td>NaN</td>\n      <td>NaN</td>\n      <td>NaN</td>\n      <td>NaN</td>\n    </tr>\n    <tr>\n      <th>3</th>\n      <td>Cash loans</td>\n      <td>F</td>\n      <td>N</td>\n      <td>Y</td>\n      <td>Unaccompanied</td>\n      <td>Working</td>\n      <td>Secondary / secondary special</td>\n      <td>Civil marriage</td>\n      <td>House / apartment</td>\n      <td>Laborers</td>\n      <td>WEDNESDAY</td>\n      <td>Business Entity Type 3</td>\n      <td>NaN</td>\n      <td>NaN</td>\n      <td>NaN</td>\n      <td>NaN</td>\n    </tr>\n    <tr>\n      <th>4</th>\n      <td>Cash loans</td>\n      <td>M</td>\n      <td>N</td>\n      <td>Y</td>\n      <td>Unaccompanied</td>\n      <td>Working</td>\n      <td>Secondary / secondary special</td>\n      <td>Single / not married</td>\n      <td>House / apartment</td>\n      <td>Core staff</td>\n      <td>THURSDAY</td>\n      <td>Religion</td>\n      <td>NaN</td>\n      <td>NaN</td>\n      <td>NaN</td>\n      <td>NaN</td>\n    </tr>\n  </tbody>\n</table>\n</div>"
     },
     "execution_count": 14,
     "metadata": {},
     "output_type": "execute_result"
    }
   ],
   "source": [
    "df_na_columns = df_combined[columns_with_missing_data]\n",
    "\n",
    "# Show the head of the DataFrame\n",
    "df_na_columns.head()"
   ],
   "metadata": {
    "collapsed": false,
    "ExecuteTime": {
     "end_time": "2024-03-29T06:49:03.887013300Z",
     "start_time": "2024-03-29T06:49:03.849158400Z"
    }
   },
   "id": "33fc95741973b09d",
   "execution_count": 14
  },
  {
   "cell_type": "code",
   "outputs": [
    {
     "name": "stdout",
     "output_type": "stream",
     "text": [
      "NAME_CONTRACT_TYPE            53.725562\n",
      "CODE_GENDER                   53.725562\n",
      "FLAG_OWN_CAR                  53.725562\n",
      "FLAG_OWN_REALTY               53.725562\n",
      "NAME_TYPE_SUITE               54.115451\n",
      "NAME_INCOME_TYPE              53.725562\n",
      "NAME_EDUCATION_TYPE           53.725562\n",
      "NAME_FAMILY_STATUS            53.725562\n",
      "NAME_HOUSING_TYPE             53.725562\n",
      "OCCUPATION_TYPE               68.317638\n",
      "WEEKDAY_APPR_PROCESS_START    53.725562\n",
      "ORGANIZATION_TYPE             53.725562\n",
      "FONDKAPREMONT_MODE            85.189541\n",
      "HOUSETYPE_MODE                76.728748\n",
      "WALLSMATERIAL_MODE            77.015340\n",
      "EMERGENCYSTATE_MODE           75.428836\n",
      "dtype: float64\n"
     ]
    }
   ],
   "source": [
    "pd.set_option('display.max_rows', None)\n",
    "missing_percentages = (df_na_columns.isna().sum() / len(df_na_columns)) * 100\n",
    "print(missing_percentages)"
   ],
   "metadata": {
    "collapsed": false,
    "ExecuteTime": {
     "end_time": "2024-03-29T06:49:03.973449900Z",
     "start_time": "2024-03-29T06:49:03.886012300Z"
    }
   },
   "id": "5ffc7ce3e03c36a8",
   "execution_count": 15
  },
  {
   "cell_type": "code",
   "outputs": [],
   "source": [
    "for col in df_combined.columns:\n",
    "    # Check if the column is of object data type and has missing or NA values\n",
    "    if df_combined[col].dtype == 'object' and df_combined[col].isnull().any():\n",
    "        # Calculate the mode of the column\n",
    "        mode_values = df_combined[col].mode().iloc[0]\n",
    "        # Fill missing values with the mode\n",
    "        df_combined[col].fillna(mode_values, inplace=True)\n",
    "        \n",
    "        \n",
    "        "
   ],
   "metadata": {
    "collapsed": false,
    "ExecuteTime": {
     "end_time": "2024-03-29T06:49:04.267131600Z",
     "start_time": "2024-03-29T06:49:03.970450900Z"
    }
   },
   "id": "39790dfb27e370be",
   "execution_count": 16
  },
  {
   "cell_type": "markdown",
   "source": [
    "## Categorical Data to be converted next. Take a look at any float or object data with less than 10 nunique values and convert to category\n",
    "* Except target\n",
    "* Gender -> Category\n",
    "* Name Contract type -> Category"
   ],
   "metadata": {
    "collapsed": false
   },
   "id": "75fbbf9617180341"
  },
  {
   "cell_type": "code",
   "outputs": [],
   "source": [],
   "metadata": {
    "collapsed": false,
    "ExecuteTime": {
     "end_time": "2024-03-29T06:49:04.272053Z",
     "start_time": "2024-03-29T06:49:04.267524400Z"
    }
   },
   "id": "573763783244f8b0",
   "execution_count": 16
  }
 ],
 "metadata": {
  "kernelspec": {
   "display_name": "Python 3",
   "language": "python",
   "name": "python3"
  },
  "language_info": {
   "codemirror_mode": {
    "name": "ipython",
    "version": 2
   },
   "file_extension": ".py",
   "mimetype": "text/x-python",
   "name": "python",
   "nbconvert_exporter": "python",
   "pygments_lexer": "ipython2",
   "version": "2.7.6"
  }
 },
 "nbformat": 4,
 "nbformat_minor": 5
}
